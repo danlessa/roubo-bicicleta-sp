{
 "cells": [
  {
   "cell_type": "code",
   "execution_count": 1,
   "id": "19d60b4c-5a4e-44b6-baf3-02ed769e7a44",
   "metadata": {},
   "outputs": [],
   "source": [
    "import pandas as pd"
   ]
  },
  {
   "cell_type": "code",
   "execution_count": 74,
   "id": "8c6846e4-d71b-435f-af05-aa26c5e9073f",
   "metadata": {},
   "outputs": [],
   "source": [
    "dataset_path = '../data/dataset.csv.zip'\n",
    "df = pd.read_csv(dataset_path)\n",
    "df['registry_timestamp'] = pd.to_datetime(df.DATAHORA_REGISTRO_BO)"
   ]
  },
  {
   "cell_type": "code",
   "execution_count": 75,
   "id": "4edd7ffe-2fa9-4d05-92a2-7a6721d5dc92",
   "metadata": {},
   "outputs": [
    {
     "data": {
      "text/plain": [
       "0        01/28/2011\n",
       "1        11/02/2011\n",
       "2        06/17/2019\n",
       "3        07/13/2008\n",
       "4        07/20/2008\n",
       "            ...    \n",
       "42932    12/25/2136\n",
       "42933    12/26/2136\n",
       "42934    12/27/2136\n",
       "42935    12/28/2136\n",
       "42936    12/29/2136\n",
       "Name: DATA_OCORRENCIA_BO, Length: 42937, dtype: object"
      ]
     },
     "execution_count": 75,
     "metadata": {},
     "output_type": "execute_result"
    }
   ],
   "source": [
    "df.DATA_OCORRENCIA_BO"
   ]
  },
  {
   "cell_type": "code",
   "execution_count": 153,
   "id": "27277d0a-1d61-4675-b2b4-6830ae66c4a7",
   "metadata": {},
   "outputs": [],
   "source": [
    "ind = df.LOGRADOURO.str.contains('RODOVIA')\n",
    "#ind &= df.LOGRADOURO.str.contains('FERNAO')\n",
    "ind &= df.DESCR_CONDUTA == 'TRANSEUNTE'\n",
    "ind = ~pd.isnull(ind) & (ind == True)\n",
    "df2 = df.loc[ind]"
   ]
  },
  {
   "cell_type": "code",
   "execution_count": 154,
   "id": "c842aa26-9a24-4c96-a416-06d99c91fe40",
   "metadata": {},
   "outputs": [
    {
     "name": "stdout",
     "output_type": "stream",
     "text": [
      "MARCA CERVELO P3 ULTEGRA -COR BRANCA\n"
     ]
    },
    {
     "data": {
      "text/plain": [
       "ID_DELEGACIA                                                          10101\n",
       "NOME_DEPARTAMENTO                  DECAP                                   \n",
       "NOME_SECCIONAL                     DEL.SEC.1º CENTRO                       \n",
       "NOME_DELEGACIA                               01º D.P. SE                   \n",
       "CIDADE                             GUARULHOS                               \n",
       "ANO_BO                                                                 2015\n",
       "NUM_BO                                                                 3020\n",
       "DESCR_SOLUCAO                                ENCAMINHAMENTO DP ÁREA DO FATO\n",
       "DESCR_PROVIDENCIA                                                       NaN\n",
       "NOME_DEPARTAMENTO_CIRC             DEMACRO                                 \n",
       "NOME_SECCIONAL_CIRC                DEL.SEC.GUARULHOS                       \n",
       "NOME_DELEGACIA_CIRC                          03º D.P. GUARULHOS            \n",
       "NOME_MUNICIPIO_CIRC                          GUARULHOS                     \n",
       "DESCR_TIPO_BO                      Boletim de Ocorrência                   \n",
       "DATA_OCORRENCIA_BO                                               05/10/2015\n",
       "HORA_OCORRENCIA_BO                                                    06:00\n",
       "DESCRICAO_APRESENTACAO                               Pela Parte Interessada\n",
       "DATAHORA_REGISTRO_BO                                      05/13/15 12:21 PM\n",
       "DATA_COMUNICACAO_BO                                              05/13/2015\n",
       "DATAHORA_IMPRESSAO_BO                            2015-05-13 12:29:17.000000\n",
       "DESCR_PERIODO                                                              \n",
       "AUTORIA_BO                                                     DESCONHECIDA\n",
       "FLAG_INTOLERANCIA                                                         N\n",
       "TIPO_INTOLERANCIA                                                       NaN\n",
       "FLAG_FLAGRANTE                                                            N\n",
       "FLAG_STATUS                                                       CONSUMADO\n",
       "RUBRICA                                                    Roubo (art. 157)\n",
       "DESCR_CONDUTA                                                    TRANSEUNTE\n",
       "DESDOBRAMENTO                                                           NaN\n",
       "BAIRRO                                                                  NaN\n",
       "DESCR_TIPOLOCAL                                                 Via pública\n",
       "DESCR_SUBTIPOLOCAL                                              Via pública\n",
       "CEP                                                                     NaN\n",
       "LOGRADOURO                                              RODOVIA HÉLIO SMIDT\n",
       "NUMERO_LOGRADOURO                                                       0.0\n",
       "LATITUDE                                                                NaN\n",
       "LONGITUDE                                                               NaN\n",
       "DESCR_EXAME                                                             NaN\n",
       "CONT_PESSOA                                                               1\n",
       "DESCR_TIPO_PESSOA                                      Vítima              \n",
       "FLAG_DEFICIENCIA                                                          N\n",
       "DESCR_PATOLOGIA                                                         NaN\n",
       "DESCRICAO_DEFICIENCIA                                                   NaN\n",
       "DESCR_RELACIONAMENTO                                                    NaN\n",
       "FLAG_VITIMA_FATAL                                                       NaN\n",
       "SEXO_PESSOA                                                               M\n",
       "IDADE_PESSOA                                                           41.0\n",
       "COR_CUTIS                                              Branca              \n",
       "DESCR_PROFISSAO                              FUNCION.PUBLICO ESTADUAL      \n",
       "DESCR_GRAU_INSTRUCAO                                                    NaN\n",
       "NACIONALIDADE_PESSOA                                                    NaN\n",
       "NATURALIDADE_PESSOA                                                     NaN\n",
       "CONT_OBJETO                                                               1\n",
       "DESCR_MODO_OBJETO                  SUBTRAÍDO                               \n",
       "DESCR_TIPO_OBJETO                  Esporte e lazer                         \n",
       "DESCR_SUBTIPO_OBJETO      Bicicleta                                     ...\n",
       "DESCR_UNIDADE                                                           NaN\n",
       "QUANTIDADE_OBJETO                                                       NaN\n",
       "OBSERVACAO_OBJETO                      MARCA CERVELO P3 ULTEGRA -COR BRANCA\n",
       "registry_timestamp                                      2015-05-13 12:21:00\n",
       "Name: 5, dtype: object"
      ]
     },
     "execution_count": 154,
     "metadata": {},
     "output_type": "execute_result"
    }
   ],
   "source": [
    "i = 0\n",
    "print(df2.loc[ind].iloc[i].OBSERVACAO_OBJETO)\n",
    "df2.loc[ind].iloc[i]\n"
   ]
  },
  {
   "cell_type": "code",
   "execution_count": 155,
   "id": "deec7bef-c721-4666-8b7f-3f9324cbca40",
   "metadata": {},
   "outputs": [
    {
     "data": {
      "text/plain": [
       "'RODAS BRANCAS E ACESSORIOS BRANCOS'"
      ]
     },
     "execution_count": 155,
     "metadata": {},
     "output_type": "execute_result"
    }
   ],
   "source": [
    "df.loc[ind].iloc[40].OBSERVACAO_OBJETO"
   ]
  },
  {
   "cell_type": "code",
   "execution_count": 156,
   "id": "cf7a06cf-2a18-419e-9615-2ba4151f1d27",
   "metadata": {},
   "outputs": [
    {
     "data": {
      "text/plain": [
       "<AxesSubplot:xlabel='registry_timestamp'>"
      ]
     },
     "execution_count": 156,
     "metadata": {},
     "output_type": "execute_result"
    },
    {
     "data": {
      "image/png": "[encoded data removed]",
      "text/plain": [
       "<Figure size 432x288 with 1 Axes>"
      ]
     },
     "metadata": {
      "needs_background": "light"
     },
     "output_type": "display_data"
    }
   ],
   "source": [
    "df.query('registry_timestamp > 2011').resample('1m', on='registry_timestamp').count().ID_DELEGACIA.plot()"
   ]
  },
  {
   "cell_type": "code",
   "execution_count": 157,
   "id": "c021eab2-fd82-4be1-be12-1d3973a8d9e1",
   "metadata": {},
   "outputs": [
    {
     "data": {
      "application/vnd.plotly.v1+json": {
       "config": {
        "plotlyServerURL": "https://plot.ly"
       },
       "data": [
        {
         "alignmentgroup": "True",
         "hovertemplate": "Data do BO=%{x}<br># BOs=%{y}<extra></extra>",
         "legendgroup": "",
         "marker": {
          "color": "#636efa",
          "pattern": {
           "shape": ""
          }
         },
         "name": "",
         "offsetgroup": "",
         "orientation": "v",
         "showlegend": false,
         "textposition": "auto",
         "type": "bar",
         "x": [
          "2013-01-31T00:00:00",
          "2013-04-30T00:00:00",
          "2013-07-31T00:00:00",
          "2013-10-31T00:00:00",
          "2014-01-31T00:00:00",
          "2014-04-30T00:00:00",
          "2014-07-31T00:00:00",
          "2014-10-31T00:00:00",
          "2015-01-31T00:00:00",
          "2015-04-30T00:00:00",
          "2015-07-31T00:00:00",
          "2015-10-31T00:00:00",
          "2016-01-31T00:00:00",
          "2016-04-30T00:00:00",
          "2016-07-31T00:00:00",
          "2016-10-31T00:00:00",
          "2017-01-31T00:00:00",
          "2017-04-30T00:00:00",
          "2017-07-31T00:00:00",
          "2017-10-31T00:00:00",
          "2018-01-31T00:00:00",
          "2018-04-30T00:00:00",
          "2018-07-31T00:00:00",
          "2018-10-31T00:00:00",
          "2019-01-31T00:00:00",
          "2019-04-30T00:00:00",
          "2019-07-31T00:00:00",
          "2019-10-31T00:00:00",
          "2020-01-31T00:00:00",
          "2020-04-30T00:00:00",
          "2020-07-31T00:00:00",
          "2020-10-31T00:00:00",
          "2021-01-31T00:00:00",
          "2021-04-30T00:00:00",
          "2021-07-31T00:00:00",
          "2021-10-31T00:00:00",
          "2022-01-31T00:00:00",
          "2022-04-30T00:00:00",
          "2022-07-31T00:00:00",
          "2022-10-31T00:00:00"
         ],
         "xaxis": "x",
         "y": [
          2,
          8,
          16,
          7,
          13,
          32,
          31,
          37,
          37,
          20,
          27,
          31,
          27,
          35,
          27,
          39,
          34,
          24,
          36,
          39,
          33,
          32,
          57,
          59,
          59,
          29,
          52,
          23,
          18,
          8,
          20,
          21,
          26,
          15,
          13,
          18,
          31,
          10,
          6,
          4
         ],
         "yaxis": "y"
        }
       ],
       "layout": {
        "autosize": true,
        "barmode": "relative",
        "legend": {
         "tracegroupgap": 0
        },
        "template": {
         "data": {
          "bar": [
           {
            "error_x": {
             "color": "#2a3f5f"
            },
            "error_y": {
             "color": "#2a3f5f"
            },
            "marker": {
             "line": {
              "color": "#E5ECF6",
              "width": 0.5
             },
             "pattern": {
              "fillmode": "overlay",
              "size": 10,
              "solidity": 0.2
             }
            },
            "type": "bar"
           }
          ],
          "barpolar": [
           {
            "marker": {
             "line": {
              "color": "#E5ECF6",
              "width": 0.5
             },
             "pattern": {
              "fillmode": "overlay",
              "size": 10,
              "solidity": 0.2
             }
            },
            "type": "barpolar"
           }
          ],
          "carpet": [
           {
            "aaxis": {
             "endlinecolor": "#2a3f5f",
             "gridcolor": "white",
             "linecolor": "white",
             "minorgridcolor": "white",
             "startlinecolor": "#2a3f5f"
            },
            "baxis": {
             "endlinecolor": "#2a3f5f",
             "gridcolor": "white",
             "linecolor": "white",
             "minorgridcolor": "white",
             "startlinecolor": "#2a3f5f"
            },
            "type": "carpet"
           }
          ],
          "choropleth": [
           {
            "colorbar": {
             "outlinewidth": 0,
             "ticks": ""
            },
            "type": "choropleth"
           }
          ],
          "contour": [
           {
            "colorbar": {
             "outlinewidth": 0,
             "ticks": ""
            },
            "colorscale": [
             [
              0,
              "#0d0887"
             ],
             [
              0.1111111111111111,
              "#46039f"
             ],
             [
              0.2222222222222222,
              "#7201a8"
             ],
             [
              0.3333333333333333,
              "#9c179e"
             ],
             [
              0.4444444444444444,
              "#bd3786"
             ],
             [
              0.5555555555555556,
              "#d8576b"
             ],
             [
              0.6666666666666666,
              "#ed7953"
             ],
             [
              0.7777777777777778,
              "#fb9f3a"
             ],
             [
              0.8888888888888888,
              "#fdca26"
             ],
             [
              1,
              "#f0f921"
             ]
            ],
            "type": "contour"
           }
          ],
          "contourcarpet": [
           {
            "colorbar": {
             "outlinewidth": 0,
             "ticks": ""
            },
            "type": "contourcarpet"
           }
          ],
          "heatmap": [
           {
            "colorbar": {
             "outlinewidth": 0,
             "ticks": ""
            },
            "colorscale": [
             [
              0,
              "#0d0887"
             ],
             [
              0.1111111111111111,
              "#46039f"
             ],
             [
              0.2222222222222222,
              "#7201a8"
             ],
             [
              0.3333333333333333,
              "#9c179e"
             ],
             [
              0.4444444444444444,
              "#bd3786"
             ],
             [
              0.5555555555555556,
              "#d8576b"
             ],
             [
              0.6666666666666666,
              "#ed7953"
             ],
             [
              0.7777777777777778,
              "#fb9f3a"
             ],
             [
              0.8888888888888888,
              "#fdca26"
             ],
             [
              1,
              "#f0f921"
             ]
            ],
            "type": "heatmap"
           }
          ],
          "heatmapgl": [
           {
            "colorbar": {
             "outlinewidth": 0,
             "ticks": ""
            },
            "colorscale": [
             [
              0,
              "#0d0887"
             ],
             [
              0.1111111111111111,
              "#46039f"
             ],
             [
              0.2222222222222222,
              "#7201a8"
             ],
             [
              0.3333333333333333,
              "#9c179e"
             ],
             [
              0.4444444444444444,
              "#bd3786"
             ],
             [
              0.5555555555555556,
              "#d8576b"
             ],
             [
              0.6666666666666666,
              "#ed7953"
             ],
             [
              0.7777777777777778,
              "#fb9f3a"
             ],
             [
              0.8888888888888888,
              "#fdca26"
             ],
             [
              1,
              "#f0f921"
             ]
            ],
            "type": "heatmapgl"
           }
          ],
          "histogram": [
           {
            "marker": {
             "pattern": {
              "fillmode": "overlay",
              "size": 10,
              "solidity": 0.2
             }
            },
            "type": "histogram"
           }
          ],
          "histogram2d": [
           {
            "colorbar": {
             "outlinewidth": 0,
             "ticks": ""
            },
            "colorscale": [
             [
              0,
              "#0d0887"
             ],
             [
              0.1111111111111111,
              "#46039f"
             ],
             [
              0.2222222222222222,
              "#7201a8"
             ],
             [
              0.3333333333333333,
              "#9c179e"
             ],
             [
              0.4444444444444444,
              "#bd3786"
             ],
             [
              0.5555555555555556,
              "#d8576b"
             ],
             [
              0.6666666666666666,
              "#ed7953"
             ],
             [
              0.7777777777777778,
              "#fb9f3a"
             ],
             [
              0.8888888888888888,
              "#fdca26"
             ],
             [
              1,
              "#f0f921"
             ]
            ],
            "type": "histogram2d"
           }
          ],
          "histogram2dcontour": [
           {
            "colorbar": {
             "outlinewidth": 0,
             "ticks": ""
            },
            "colorscale": [
             [
              0,
              "#0d0887"
             ],
             [
              0.1111111111111111,
              "#46039f"
             ],
             [
              0.2222222222222222,
              "#7201a8"
             ],
             [
              0.3333333333333333,
              "#9c179e"
             ],
             [
              0.4444444444444444,
              "#bd3786"
             ],
             [
              0.5555555555555556,
              "#d8576b"
             ],
             [
              0.6666666666666666,
              "#ed7953"
             ],
             [
              0.7777777777777778,
              "#fb9f3a"
             ],
             [
              0.8888888888888888,
              "#fdca26"
             ],
             [
              1,
              "#f0f921"
             ]
            ],
            "type": "histogram2dcontour"
           }
          ],
          "mesh3d": [
           {
            "colorbar": {
             "outlinewidth": 0,
             "ticks": ""
            },
            "type": "mesh3d"
           }
          ],
          "parcoords": [
           {
            "line": {
             "colorbar": {
              "outlinewidth": 0,
              "ticks": ""
             }
            },
            "type": "parcoords"
           }
          ],
          "pie": [
           {
            "automargin": true,
            "type": "pie"
           }
          ],
          "scatter": [
           {
            "fillpattern": {
             "fillmode": "overlay",
             "size": 10,
             "solidity": 0.2
            },
            "type": "scatter"
           }
          ],
          "scatter3d": [
           {
            "line": {
             "colorbar": {
              "outlinewidth": 0,
              "ticks": ""
             }
            },
            "marker": {
             "colorbar": {
              "outlinewidth": 0,
              "ticks": ""
             }
            },
            "type": "scatter3d"
           }
          ],
          "scattercarpet": [
           {
            "marker": {
             "colorbar": {
              "outlinewidth": 0,
              "ticks": ""
             }
            },
            "type": "scattercarpet"
           }
          ],
          "scattergeo": [
           {
            "marker": {
             "colorbar": {
              "outlinewidth": 0,
              "ticks": ""
             }
            },
            "type": "scattergeo"
           }
          ],
          "scattergl": [
           {
            "marker": {
             "colorbar": {
              "outlinewidth": 0,
              "ticks": ""
             }
            },
            "type": "scattergl"
           }
          ],
          "scattermapbox": [
           {
            "marker": {
             "colorbar": {
              "outlinewidth": 0,
              "ticks": ""
             }
            },
            "type": "scattermapbox"
           }
          ],
          "scatterpolar": [
           {
            "marker": {
             "colorbar": {
              "outlinewidth": 0,
              "ticks": ""
             }
            },
            "type": "scatterpolar"
           }
          ],
          "scatterpolargl": [
           {
            "marker": {
             "colorbar": {
              "outlinewidth": 0,
              "ticks": ""
             }
            },
            "type": "scatterpolargl"
           }
          ],
          "scatterternary": [
           {
            "marker": {
             "colorbar": {
              "outlinewidth": 0,
              "ticks": ""
             }
            },
            "type": "scatterternary"
           }
          ],
          "surface": [
           {
            "colorbar": {
             "outlinewidth": 0,
             "ticks": ""
            },
            "colorscale": [
             [
              0,
              "#0d0887"
             ],
             [
              0.1111111111111111,
              "#46039f"
             ],
             [
              0.2222222222222222,
              "#7201a8"
             ],
             [
              0.3333333333333333,
              "#9c179e"
             ],
             [
              0.4444444444444444,
              "#bd3786"
             ],
             [
              0.5555555555555556,
              "#d8576b"
             ],
             [
              0.6666666666666666,
              "#ed7953"
             ],
             [
              0.7777777777777778,
              "#fb9f3a"
             ],
             [
              0.8888888888888888,
              "#fdca26"
             ],
             [
              1,
              "#f0f921"
             ]
            ],
            "type": "surface"
           }
          ],
          "table": [
           {
            "cells": {
             "fill": {
              "color": "#EBF0F8"
             },
             "line": {
              "color": "white"
             }
            },
            "header": {
             "fill": {
              "color": "#C8D4E3"
             },
             "line": {
              "color": "white"
             }
            },
            "type": "table"
           }
          ]
         },
         "layout": {
          "annotationdefaults": {
           "arrowcolor": "#2a3f5f",
           "arrowhead": 0,
           "arrowwidth": 1
          },
          "autotypenumbers": "strict",
          "coloraxis": {
           "colorbar": {
            "outlinewidth": 0,
            "ticks": ""
           }
          },
          "colorscale": {
           "diverging": [
            [
             0,
             "#8e0152"
            ],
            [
             0.1,
             "#c51b7d"
            ],
            [
             0.2,
             "#de77ae"
            ],
            [
             0.3,
             "#f1b6da"
            ],
            [
             0.4,
             "#fde0ef"
            ],
            [
             0.5,
             "#f7f7f7"
            ],
            [
             0.6,
             "#e6f5d0"
            ],
            [
             0.7,
             "#b8e186"
            ],
            [
             0.8,
             "#7fbc41"
            ],
            [
             0.9,
             "#4d9221"
            ],
            [
             1,
             "#276419"
            ]
           ],
           "sequential": [
            [
             0,
             "#0d0887"
            ],
            [
             0.1111111111111111,
             "#46039f"
            ],
            [
             0.2222222222222222,
             "#7201a8"
            ],
            [
             0.3333333333333333,
             "#9c179e"
            ],
            [
             0.4444444444444444,
             "#bd3786"
            ],
            [
             0.5555555555555556,
             "#d8576b"
            ],
            [
             0.6666666666666666,
             "#ed7953"
            ],
            [
             0.7777777777777778,
             "#fb9f3a"
            ],
            [
             0.8888888888888888,
             "#fdca26"
            ],
            [
             1,
             "#f0f921"
            ]
           ],
           "sequentialminus": [
            [
             0,
             "#0d0887"
            ],
            [
             0.1111111111111111,
             "#46039f"
            ],
            [
             0.2222222222222222,
             "#7201a8"
            ],
            [
             0.3333333333333333,
             "#9c179e"
            ],
            [
             0.4444444444444444,
             "#bd3786"
            ],
            [
             0.5555555555555556,
             "#d8576b"
            ],
            [
             0.6666666666666666,
             "#ed7953"
            ],
            [
             0.7777777777777778,
             "#fb9f3a"
            ],
            [
             0.8888888888888888,
             "#fdca26"
            ],
            [
             1,
             "#f0f921"
            ]
           ]
          },
          "colorway": [
           "#636efa",
           "#EF553B",
           "#00cc96",
           "#ab63fa",
           "#FFA15A",
           "#19d3f3",
           "#FF6692",
           "#B6E880",
           "#FF97FF",
           "#FECB52"
          ],
          "font": {
           "color": "#2a3f5f"
          },
          "geo": {
           "bgcolor": "white",
           "lakecolor": "white",
           "landcolor": "#E5ECF6",
           "showlakes": true,
           "showland": true,
           "subunitcolor": "white"
          },
          "hoverlabel": {
           "align": "left"
          },
          "hovermode": "closest",
          "mapbox": {
           "style": "light"
          },
          "paper_bgcolor": "white",
          "plot_bgcolor": "#E5ECF6",
          "polar": {
           "angularaxis": {
            "gridcolor": "white",
            "linecolor": "white",
            "ticks": ""
           },
           "bgcolor": "#E5ECF6",
           "radialaxis": {
            "gridcolor": "white",
            "linecolor": "white",
            "ticks": ""
           }
          },
          "scene": {
           "xaxis": {
            "backgroundcolor": "#E5ECF6",
            "gridcolor": "white",
            "gridwidth": 2,
            "linecolor": "white",
            "showbackground": true,
            "ticks": "",
            "zerolinecolor": "white"
           },
           "yaxis": {
            "backgroundcolor": "#E5ECF6",
            "gridcolor": "white",
            "gridwidth": 2,
            "linecolor": "white",
            "showbackground": true,
            "ticks": "",
            "zerolinecolor": "white"
           },
           "zaxis": {
            "backgroundcolor": "#E5ECF6",
            "gridcolor": "white",
            "gridwidth": 2,
            "linecolor": "white",
            "showbackground": true,
            "ticks": "",
            "zerolinecolor": "white"
           }
          },
          "shapedefaults": {
           "line": {
            "color": "#2a3f5f"
           }
          },
          "ternary": {
           "aaxis": {
            "gridcolor": "white",
            "linecolor": "white",
            "ticks": ""
           },
           "baxis": {
            "gridcolor": "white",
            "linecolor": "white",
            "ticks": ""
           },
           "bgcolor": "#E5ECF6",
           "caxis": {
            "gridcolor": "white",
            "linecolor": "white",
            "ticks": ""
           }
          },
          "title": {
           "x": 0.05
          },
          "xaxis": {
           "automargin": true,
           "gridcolor": "white",
           "linecolor": "white",
           "ticks": "",
           "title": {
            "standoff": 15
           },
           "zerolinecolor": "white",
           "zerolinewidth": 2
          },
          "yaxis": {
           "automargin": true,
           "gridcolor": "white",
           "linecolor": "white",
           "ticks": "",
           "title": {
            "standoff": 15
           },
           "zerolinecolor": "white",
           "zerolinewidth": 2
          }
         }
        },
        "title": {
         "text": "Roubos de bicicleta em Rodovias por Transeuntes, agregado trimestralmente"
        },
        "xaxis": {
         "anchor": "y",
         "autorange": true,
         "domain": [
          0,
          1
         ],
         "range": [
          "2012-12-17 12:00",
          "2022-12-14 12:00"
         ],
         "title": {
          "text": "Data do BO"
         },
         "type": "date"
        },
        "yaxis": {
         "anchor": "x",
         "autorange": true,
         "domain": [
          0,
          1
         ],
         "range": [
          0,
          62.10526315789474
         ],
         "title": {
          "text": "# BOs"
         },
         "type": "linear"
        }
       }
      },
      "image/png": "[encoded data removed]",
      "text/html": [
       "<div>                            <div id=\"8a8e93c6-76bb-4cef-a930-37fa6b545a8c\" class=\"plotly-graph-div\" style=\"height:525px; width:100%;\"></div>            <script type=\"text/javascript\">                require([\"plotly\"], function(Plotly) {                    window.PLOTLYENV=window.PLOTLYENV || {};                                    if (document.getElementById(\"8a8e93c6-76bb-4cef-a930-37fa6b545a8c\")) {                    Plotly.newPlot(                        \"8a8e93c6-76bb-4cef-a930-37fa6b545a8c\",                        [{\"alignmentgroup\":\"True\",\"hovertemplate\":\"Data do BO=%{x}<br># BOs=%{y}<extra></extra>\",\"legendgroup\":\"\",\"marker\":{\"color\":\"#636efa\",\"pattern\":{\"shape\":\"\"}},\"name\":\"\",\"offsetgroup\":\"\",\"orientation\":\"v\",\"showlegend\":false,\"textposition\":\"auto\",\"x\":[\"2013-01-31T00:00:00\",\"2013-04-30T00:00:00\",\"2013-07-31T00:00:00\",\"2013-10-31T00:00:00\",\"2014-01-31T00:00:00\",\"2014-04-30T00:00:00\",\"2014-07-31T00:00:00\",\"2014-10-31T00:00:00\",\"2015-01-31T00:00:00\",\"2015-04-30T00:00:00\",\"2015-07-31T00:00:00\",\"2015-10-31T00:00:00\",\"2016-01-31T00:00:00\",\"2016-04-30T00:00:00\",\"2016-07-31T00:00:00\",\"2016-10-31T00:00:00\",\"2017-01-31T00:00:00\",\"2017-04-30T00:00:00\",\"2017-07-31T00:00:00\",\"2017-10-31T00:00:00\",\"2018-01-31T00:00:00\",\"2018-04-30T00:00:00\",\"2018-07-31T00:00:00\",\"2018-10-31T00:00:00\",\"2019-01-31T00:00:00\",\"2019-04-30T00:00:00\",\"2019-07-31T00:00:00\",\"2019-10-31T00:00:00\",\"2020-01-31T00:00:00\",\"2020-04-30T00:00:00\",\"2020-07-31T00:00:00\",\"2020-10-31T00:00:00\",\"2021-01-31T00:00:00\",\"2021-04-30T00:00:00\",\"2021-07-31T00:00:00\",\"2021-10-31T00:00:00\",\"2022-01-31T00:00:00\",\"2022-04-30T00:00:00\",\"2022-07-31T00:00:00\",\"2022-10-31T00:00:00\"],\"xaxis\":\"x\",\"y\":[2,8,16,7,13,32,31,37,37,20,27,31,27,35,27,39,34,24,36,39,33,32,57,59,59,29,52,23,18,8,20,21,26,15,13,18,31,10,6,4],\"yaxis\":\"y\",\"type\":\"bar\"}],                        {\"template\":{\"data\":{\"histogram2dcontour\":[{\"type\":\"histogram2dcontour\",\"colorbar\":{\"outlinewidth\":0,\"ticks\":\"\"},\"colorscale\":[[0.0,\"#0d0887\"],[0.1111111111111111,\"#46039f\"],[0.2222222222222222,\"#7201a8\"],[0.3333333333333333,\"#9c179e\"],[0.4444444444444444,\"#bd3786\"],[0.5555555555555556,\"#d8576b\"],[0.6666666666666666,\"#ed7953\"],[0.7777777777777778,\"#fb9f3a\"],[0.8888888888888888,\"#fdca26\"],[1.0,\"#f0f921\"]]}],\"choropleth\":[{\"type\":\"choropleth\",\"colorbar\":{\"outlinewidth\":0,\"ticks\":\"\"}}],\"histogram2d\":[{\"type\":\"histogram2d\",\"colorbar\":{\"outlinewidth\":0,\"ticks\":\"\"},\"colorscale\":[[0.0,\"#0d0887\"],[0.1111111111111111,\"#46039f\"],[0.2222222222222222,\"#7201a8\"],[0.3333333333333333,\"#9c179e\"],[0.4444444444444444,\"#bd3786\"],[0.5555555555555556,\"#d8576b\"],[0.6666666666666666,\"#ed7953\"],[0.7777777777777778,\"#fb9f3a\"],[0.8888888888888888,\"#fdca26\"],[1.0,\"#f0f921\"]]}],\"heatmap\":[{\"type\":\"heatmap\",\"colorbar\":{\"outlinewidth\":0,\"ticks\":\"\"},\"colorscale\":[[0.0,\"#0d0887\"],[0.1111111111111111,\"#46039f\"],[0.2222222222222222,\"#7201a8\"],[0.3333333333333333,\"#9c179e\"],[0.4444444444444444,\"#bd3786\"],[0.5555555555555556,\"#d8576b\"],[0.6666666666666666,\"#ed7953\"],[0.7777777777777778,\"#fb9f3a\"],[0.8888888888888888,\"#fdca26\"],[1.0,\"#f0f921\"]]}],\"heatmapgl\":[{\"type\":\"heatmapgl\",\"colorbar\":{\"outlinewidth\":0,\"ticks\":\"\"},\"colorscale\":[[0.0,\"#0d0887\"],[0.1111111111111111,\"#46039f\"],[0.2222222222222222,\"#7201a8\"],[0.3333333333333333,\"#9c179e\"],[0.4444444444444444,\"#bd3786\"],[0.5555555555555556,\"#d8576b\"],[0.6666666666666666,\"#ed7953\"],[0.7777777777777778,\"#fb9f3a\"],[0.8888888888888888,\"#fdca26\"],[1.0,\"#f0f921\"]]}],\"contourcarpet\":[{\"type\":\"contourcarpet\",\"colorbar\":{\"outlinewidth\":0,\"ticks\":\"\"}}],\"contour\":[{\"type\":\"contour\",\"colorbar\":{\"outlinewidth\":0,\"ticks\":\"\"},\"colorscale\":[[0.0,\"#0d0887\"],[0.1111111111111111,\"#46039f\"],[0.2222222222222222,\"#7201a8\"],[0.3333333333333333,\"#9c179e\"],[0.4444444444444444,\"#bd3786\"],[0.5555555555555556,\"#d8576b\"],[0.6666666666666666,\"#ed7953\"],[0.7777777777777778,\"#fb9f3a\"],[0.8888888888888888,\"#fdca26\"],[1.0,\"#f0f921\"]]}],\"surface\":[{\"type\":\"surface\",\"colorbar\":{\"outlinewidth\":0,\"ticks\":\"\"},\"colorscale\":[[0.0,\"#0d0887\"],[0.1111111111111111,\"#46039f\"],[0.2222222222222222,\"#7201a8\"],[0.3333333333333333,\"#9c179e\"],[0.4444444444444444,\"#bd3786\"],[0.5555555555555556,\"#d8576b\"],[0.6666666666666666,\"#ed7953\"],[0.7777777777777778,\"#fb9f3a\"],[0.8888888888888888,\"#fdca26\"],[1.0,\"#f0f921\"]]}],\"mesh3d\":[{\"type\":\"mesh3d\",\"colorbar\":{\"outlinewidth\":0,\"ticks\":\"\"}}],\"scatter\":[{\"fillpattern\":{\"fillmode\":\"overlay\",\"size\":10,\"solidity\":0.2},\"type\":\"scatter\"}],\"parcoords\":[{\"type\":\"parcoords\",\"line\":{\"colorbar\":{\"outlinewidth\":0,\"ticks\":\"\"}}}],\"scatterpolargl\":[{\"type\":\"scatterpolargl\",\"marker\":{\"colorbar\":{\"outlinewidth\":0,\"ticks\":\"\"}}}],\"bar\":[{\"error_x\":{\"color\":\"#2a3f5f\"},\"error_y\":{\"color\":\"#2a3f5f\"},\"marker\":{\"line\":{\"color\":\"#E5ECF6\",\"width\":0.5},\"pattern\":{\"fillmode\":\"overlay\",\"size\":10,\"solidity\":0.2}},\"type\":\"bar\"}],\"scattergeo\":[{\"type\":\"scattergeo\",\"marker\":{\"colorbar\":{\"outlinewidth\":0,\"ticks\":\"\"}}}],\"scatterpolar\":[{\"type\":\"scatterpolar\",\"marker\":{\"colorbar\":{\"outlinewidth\":0,\"ticks\":\"\"}}}],\"histogram\":[{\"marker\":{\"pattern\":{\"fillmode\":\"overlay\",\"size\":10,\"solidity\":0.2}},\"type\":\"histogram\"}],\"scattergl\":[{\"type\":\"scattergl\",\"marker\":{\"colorbar\":{\"outlinewidth\":0,\"ticks\":\"\"}}}],\"scatter3d\":[{\"type\":\"scatter3d\",\"line\":{\"colorbar\":{\"outlinewidth\":0,\"ticks\":\"\"}},\"marker\":{\"colorbar\":{\"outlinewidth\":0,\"ticks\":\"\"}}}],\"scattermapbox\":[{\"type\":\"scattermapbox\",\"marker\":{\"colorbar\":{\"outlinewidth\":0,\"ticks\":\"\"}}}],\"scatterternary\":[{\"type\":\"scatterternary\",\"marker\":{\"colorbar\":{\"outlinewidth\":0,\"ticks\":\"\"}}}],\"scattercarpet\":[{\"type\":\"scattercarpet\",\"marker\":{\"colorbar\":{\"outlinewidth\":0,\"ticks\":\"\"}}}],\"carpet\":[{\"aaxis\":{\"endlinecolor\":\"#2a3f5f\",\"gridcolor\":\"white\",\"linecolor\":\"white\",\"minorgridcolor\":\"white\",\"startlinecolor\":\"#2a3f5f\"},\"baxis\":{\"endlinecolor\":\"#2a3f5f\",\"gridcolor\":\"white\",\"linecolor\":\"white\",\"minorgridcolor\":\"white\",\"startlinecolor\":\"#2a3f5f\"},\"type\":\"carpet\"}],\"table\":[{\"cells\":{\"fill\":{\"color\":\"#EBF0F8\"},\"line\":{\"color\":\"white\"}},\"header\":{\"fill\":{\"color\":\"#C8D4E3\"},\"line\":{\"color\":\"white\"}},\"type\":\"table\"}],\"barpolar\":[{\"marker\":{\"line\":{\"color\":\"#E5ECF6\",\"width\":0.5},\"pattern\":{\"fillmode\":\"overlay\",\"size\":10,\"solidity\":0.2}},\"type\":\"barpolar\"}],\"pie\":[{\"automargin\":true,\"type\":\"pie\"}]},\"layout\":{\"autotypenumbers\":\"strict\",\"colorway\":[\"#636efa\",\"#EF553B\",\"#00cc96\",\"#ab63fa\",\"#FFA15A\",\"#19d3f3\",\"#FF6692\",\"#B6E880\",\"#FF97FF\",\"#FECB52\"],\"font\":{\"color\":\"#2a3f5f\"},\"hovermode\":\"closest\",\"hoverlabel\":{\"align\":\"left\"},\"paper_bgcolor\":\"white\",\"plot_bgcolor\":\"#E5ECF6\",\"polar\":{\"bgcolor\":\"#E5ECF6\",\"angularaxis\":{\"gridcolor\":\"white\",\"linecolor\":\"white\",\"ticks\":\"\"},\"radialaxis\":{\"gridcolor\":\"white\",\"linecolor\":\"white\",\"ticks\":\"\"}},\"ternary\":{\"bgcolor\":\"#E5ECF6\",\"aaxis\":{\"gridcolor\":\"white\",\"linecolor\":\"white\",\"ticks\":\"\"},\"baxis\":{\"gridcolor\":\"white\",\"linecolor\":\"white\",\"ticks\":\"\"},\"caxis\":{\"gridcolor\":\"white\",\"linecolor\":\"white\",\"ticks\":\"\"}},\"coloraxis\":{\"colorbar\":{\"outlinewidth\":0,\"ticks\":\"\"}},\"colorscale\":{\"sequential\":[[0.0,\"#0d0887\"],[0.1111111111111111,\"#46039f\"],[0.2222222222222222,\"#7201a8\"],[0.3333333333333333,\"#9c179e\"],[0.4444444444444444,\"#bd3786\"],[0.5555555555555556,\"#d8576b\"],[0.6666666666666666,\"#ed7953\"],[0.7777777777777778,\"#fb9f3a\"],[0.8888888888888888,\"#fdca26\"],[1.0,\"#f0f921\"]],\"sequentialminus\":[[0.0,\"#0d0887\"],[0.1111111111111111,\"#46039f\"],[0.2222222222222222,\"#7201a8\"],[0.3333333333333333,\"#9c179e\"],[0.4444444444444444,\"#bd3786\"],[0.5555555555555556,\"#d8576b\"],[0.6666666666666666,\"#ed7953\"],[0.7777777777777778,\"#fb9f3a\"],[0.8888888888888888,\"#fdca26\"],[1.0,\"#f0f921\"]],\"diverging\":[[0,\"#8e0152\"],[0.1,\"#c51b7d\"],[0.2,\"#de77ae\"],[0.3,\"#f1b6da\"],[0.4,\"#fde0ef\"],[0.5,\"#f7f7f7\"],[0.6,\"#e6f5d0\"],[0.7,\"#b8e186\"],[0.8,\"#7fbc41\"],[0.9,\"#4d9221\"],[1,\"#276419\"]]},\"xaxis\":{\"gridcolor\":\"white\",\"linecolor\":\"white\",\"ticks\":\"\",\"title\":{\"standoff\":15},\"zerolinecolor\":\"white\",\"automargin\":true,\"zerolinewidth\":2},\"yaxis\":{\"gridcolor\":\"white\",\"linecolor\":\"white\",\"ticks\":\"\",\"title\":{\"standoff\":15},\"zerolinecolor\":\"white\",\"automargin\":true,\"zerolinewidth\":2},\"scene\":{\"xaxis\":{\"backgroundcolor\":\"#E5ECF6\",\"gridcolor\":\"white\",\"linecolor\":\"white\",\"showbackground\":true,\"ticks\":\"\",\"zerolinecolor\":\"white\",\"gridwidth\":2},\"yaxis\":{\"backgroundcolor\":\"#E5ECF6\",\"gridcolor\":\"white\",\"linecolor\":\"white\",\"showbackground\":true,\"ticks\":\"\",\"zerolinecolor\":\"white\",\"gridwidth\":2},\"zaxis\":{\"backgroundcolor\":\"#E5ECF6\",\"gridcolor\":\"white\",\"linecolor\":\"white\",\"showbackground\":true,\"ticks\":\"\",\"zerolinecolor\":\"white\",\"gridwidth\":2}},\"shapedefaults\":{\"line\":{\"color\":\"#2a3f5f\"}},\"annotationdefaults\":{\"arrowcolor\":\"#2a3f5f\",\"arrowhead\":0,\"arrowwidth\":1},\"geo\":{\"bgcolor\":\"white\",\"landcolor\":\"#E5ECF6\",\"subunitcolor\":\"white\",\"showland\":true,\"showlakes\":true,\"lakecolor\":\"white\"},\"title\":{\"x\":0.05},\"mapbox\":{\"style\":\"light\"}}},\"xaxis\":{\"anchor\":\"y\",\"domain\":[0.0,1.0],\"title\":{\"text\":\"Data do BO\"}},\"yaxis\":{\"anchor\":\"x\",\"domain\":[0.0,1.0],\"title\":{\"text\":\"# BOs\"}},\"legend\":{\"tracegroupgap\":0},\"title\":{\"text\":\"Roubos de bicicleta em Rodovias por Transeuntes, agregado trimestralmente\"},\"barmode\":\"relative\"},                        {\"responsive\": true}                    ).then(function(){\n",
       "                            \n",
       "var gd = document.getElementById('8a8e93c6-76bb-4cef-a930-37fa6b545a8c');\n",
       "var x = new MutationObserver(function (mutations, observer) {{\n",
       "        var display = window.getComputedStyle(gd).display;\n",
       "        if (!display || display === 'none') {{\n",
       "            console.log([gd, 'removed!']);\n",
       "            Plotly.purge(gd);\n",
       "            observer.disconnect();\n",
       "        }}\n",
       "}});\n",
       "\n",
       "// Listen for the removal of the full notebook cells\n",
       "var notebookContainer = gd.closest('#notebook-container');\n",
       "if (notebookContainer) {{\n",
       "    x.observe(notebookContainer, {childList: true});\n",
       "}}\n",
       "\n",
       "// Listen for the clearing of the current output cell\n",
       "var outputEl = gd.closest('.output');\n",
       "if (outputEl) {{\n",
       "    x.observe(outputEl, {childList: true});\n",
       "}}\n",
       "\n",
       "                        })                };                });            </script>        </div>"
      ]
     },
     "metadata": {},
     "output_type": "display_data"
    }
   ],
   "source": [
    "import plotly.express as px\n",
    "\n",
    "df3 = df2.query('registry_timestamp >= \"2013-01-01 00:00:00\"').resample('3m', on='registry_timestamp').count().ID_DELEGACIA.reset_index()\n",
    "\n",
    "\n",
    "px.bar(df3,\n",
    "       x='registry_timestamp',\n",
    "       y='ID_DELEGACIA',\n",
    "       labels={'ID_DELEGACIA': '# BOs',\n",
    "               'registry_timestamp': 'Data do BO'},\n",
    "      title=\"Roubos de bicicleta em Rodovias por Transeuntes, agregado trimestralmente\")"
   ]
  },
  {
   "cell_type": "code",
   "execution_count": 158,
   "id": "0f5ccb09-bfdb-468f-b53e-8e5ab9ba4ad8",
   "metadata": {},
   "outputs": [
    {
     "data": {
      "text/plain": [
       "<AxesSubplot:ylabel='Frequency'>"
      ]
     },
     "execution_count": 158,
     "metadata": {},
     "output_type": "execute_result"
    },
    {
     "data": {
      "image/png": "[encoded data removed]",
      "text/plain": [
       "<Figure size 432x288 with 1 Axes>"
      ]
     },
     "metadata": {
      "needs_background": "light"
     },
     "output_type": "display_data"
    }
   ],
   "source": [
    "df2.query('registry_timestamp > \"2015-01-01\"').registry_timestamp.dt.month.plot(kind='hist')"
   ]
  },
  {
   "cell_type": "code",
   "execution_count": null,
   "id": "87282b6d-c499-4e4b-854b-22e18383989a",
   "metadata": {},
   "outputs": [],
   "source": [
    "df2.query('registry_timestamp > \"2015-01-01\"').registry_timestamp.dt.month.plot(kind='hist')"
   ]
  },
  {
   "cell_type": "code",
   "execution_count": 159,
   "id": "86d5aefc-2214-4857-8f0e-75b0874a28ac",
   "metadata": {},
   "outputs": [
    {
     "data": {
      "text/plain": [
       "RODOVIA SP 160                       101\n",
       "RODOVIA DOS IMIGRANTES                68\n",
       "RODOVIA SP 070                        64\n",
       "RODOVIA SPA 248/055                   41\n",
       "RODOVIA ANCHIETA                      28\n",
       "RODOVIA SP 055                        28\n",
       "RODOVIA SP 348                        23\n",
       "RODOVIA AYRTON SENNA DA SILVA         22\n",
       "RODOVIA SP 150                        22\n",
       "RODOVIA SP 061                        22\n",
       "RODOVIA PRESIDENTE DUTRA (BR 116)     21\n",
       "RODOVIA SP 342                        20\n",
       "RODOVIA ATILIO BALBO                  19\n",
       "RODOVIA CONEGO DOMENICO RANGONI       17\n",
       "RODOVIA PRES DUTRA                    15\n",
       "RODOVIA AMADOR BUENO DA VEIGA         15\n",
       "RODOVIA REGIS BITTENCOURT             14\n",
       "RODOVIA CÔNEGO DOMÊNICO RANGONI       13\n",
       "RODOVIA FERNAO DIAS                   13\n",
       "RODOVIA SPA 1A 248/055                13\n",
       "RODOVIA PRESIDENTE DUTRA              12\n",
       "RODOVIA ABRÃO ASSED SP 333            12\n",
       "RODOVIA AYRTON SENNA                  12\n",
       "RODOVIA SP 147                        11\n",
       "RODOVIA PADRE MANOEL DA NOBREGA       11\n",
       "RODOVIA SP 075                        10\n",
       "RODOVIA RODOANEL MARIO COVAS          10\n",
       "RODOVIA RODOANEL TRECHO SUL           10\n",
       "RODOVIA WASHINGTON LUIZ                9\n",
       "AC RODOVIA ANEL VIARIO/SP-333          9\n",
       "Name: LOGRADOURO, dtype: int64"
      ]
     },
     "execution_count": 159,
     "metadata": {},
     "output_type": "execute_result"
    }
   ],
   "source": [
    "df2.LOGRADOURO.value_counts().head(30)"
   ]
  },
  {
   "cell_type": "code",
   "execution_count": null,
   "id": "60394c6e-4e4c-4f85-92c5-68930af90c84",
   "metadata": {},
   "outputs": [],
   "source": []
  },
  {
   "cell_type": "code",
   "execution_count": 186,
   "id": "7daefc48-5945-4002-a465-90d7cf97d00d",
   "metadata": {},
   "outputs": [
    {
     "data": {
      "application/vnd.plotly.v1+json": {
       "config": {
        "plotlyServerURL": "https://plot.ly"
       },
       "data": [
        {
         "alignmentgroup": "True",
         "bingroup": "x",
         "hovertemplate": "variable=HORA_OCORRENCIA_BO<br>value=%{x}<br>count=%{y}<extra></extra>",
         "legendgroup": "HORA_OCORRENCIA_BO",
         "marker": {
          "color": "#636efa",
          "pattern": {
           "shape": ""
          }
         },
         "name": "HORA_OCORRENCIA_BO",
         "nbinsx": 24,
         "offsetgroup": "HORA_OCORRENCIA_BO",
         "orientation": "v",
         "showlegend": true,
         "type": "histogram",
         "x": [
          6,
          11,
          5.833333333333333,
          12,
          9.5,
          9,
          13.333333333333334,
          11,
          11.5,
          13.5,
          9,
          5.833333333333333,
          12.333333333333334,
          21.333333333333332,
          11.5,
          19,
          9,
          11.5,
          11.5,
          11.166666666666666,
          21.333333333333332,
          21.333333333333332,
          5.5,
          7.333333333333333,
          16.5,
          10,
          10,
          9.5,
          12.5,
          10,
          9.5,
          21.333333333333332,
          13.5,
          18.5,
          8.5,
          8.5,
          21.333333333333332,
          21.5,
          10,
          19.666666666666668,
          8.5,
          19.5,
          6.25,
          19.5,
          21,
          8.5,
          18.833333333333332,
          5.416666666666667,
          16,
          17.166666666666668,
          7.5,
          null,
          7.5,
          7.5,
          21,
          10.666666666666666,
          7.666666666666667,
          10.2,
          14,
          18.65,
          12,
          23.5,
          8.75,
          7.5,
          8.5,
          16,
          20.5,
          20.5,
          8,
          18.333333333333332,
          9,
          6,
          10.2,
          20.5,
          19,
          5.5,
          18,
          12.083333333333334,
          17.5,
          7.5,
          18.166666666666668,
          6,
          6.5,
          14.833333333333334,
          9.666666666666666,
          12.666666666666666,
          8,
          7.583333333333333,
          9,
          9,
          7.583333333333333,
          7.583333333333333,
          9,
          7,
          6.666666666666667,
          8.833333333333334,
          21,
          8.25,
          8.25,
          11.5,
          15.333333333333334,
          10.5,
          17.75,
          null,
          7.583333333333333,
          9,
          16.5,
          9.5,
          8.833333333333334,
          8.833333333333334,
          9,
          null,
          17.5,
          16.5,
          10,
          13.5,
          18.5,
          21.5,
          19.5,
          21.666666666666668,
          10,
          8.166666666666666,
          8.25,
          8.25,
          7.666666666666667,
          20,
          22.333333333333332,
          5,
          7.333333333333333,
          9.333333333333334,
          6.333333333333333,
          20,
          8.25,
          11.166666666666666,
          9,
          23,
          5.25,
          7,
          11.5,
          8.833333333333334,
          6.833333333333333,
          8.25,
          5.75,
          10.5,
          10.5,
          7.333333333333333,
          19.916666666666668,
          14.333333333333334,
          19,
          8.666666666666666,
          20.5,
          5.333333333333333,
          5,
          9,
          18.5,
          15.633333333333333,
          18.5,
          10.5,
          16.333333333333332,
          19.666666666666668,
          7.583333333333333,
          7.583333333333333,
          10,
          19.75,
          10.666666666666666,
          22,
          23.666666666666668,
          10.666666666666666,
          7.583333333333333,
          9,
          12.666666666666666,
          20.5,
          8.666666666666666,
          8.666666666666666,
          16.666666666666668,
          10.5,
          13,
          10.166666666666666,
          17.666666666666668,
          5.666666666666667,
          8.333333333333334,
          5.333333333333333,
          11,
          10.166666666666666,
          11.833333333333334,
          23,
          11.5,
          19.5,
          22.833333333333332,
          17,
          7,
          7.166666666666667,
          19.25,
          22.833333333333332,
          8.25,
          19,
          12.283333333333333,
          18.5,
          10,
          20,
          17.5,
          7.5,
          null,
          10,
          19,
          22.833333333333332,
          null,
          4,
          22.5,
          22.833333333333332,
          20.666666666666668,
          14.333333333333334,
          21.166666666666668,
          8.25,
          12.5,
          8.666666666666666,
          8.666666666666666,
          16,
          8.5,
          19.333333333333332,
          6.333333333333333,
          12,
          17,
          20.666666666666668,
          8.666666666666666,
          19.333333333333332,
          9.5,
          12.75,
          16.5,
          8.666666666666666,
          8.666666666666666,
          8.666666666666666,
          8.666666666666666,
          8.666666666666666,
          6.5,
          10.5,
          6,
          18.666666666666668,
          8.666666666666666,
          8.666666666666666,
          8.666666666666666,
          8.666666666666666,
          8.666666666666666,
          21,
          7.333333333333333,
          8.666666666666666,
          18.5,
          null,
          15.666666666666666,
          18.25,
          9.666666666666666,
          14.5,
          18.333333333333332,
          6,
          10.5,
          15,
          8.666666666666666,
          10.5,
          14.666666666666666,
          21.333333333333332,
          23.5,
          7.5,
          10.5,
          20.666666666666668,
          16.416666666666668,
          17.5,
          10,
          9,
          14,
          null,
          23,
          11,
          18.5,
          19,
          9.5,
          14.666666666666666,
          21.75,
          5.25,
          10,
          20,
          19.5,
          null,
          16.416666666666668,
          22.5,
          10.5,
          7.333333333333333,
          16.666666666666668,
          20.666666666666668,
          19.5,
          10,
          9.25,
          12.5,
          20.333333333333332,
          13.5,
          8.666666666666666,
          20.5,
          12.25,
          null,
          19.5,
          23,
          7,
          6.5,
          16.833333333333332,
          19,
          16.5,
          17.5,
          21,
          10,
          5.833333333333333,
          10.166666666666666,
          18.5,
          6.5,
          10,
          18.833333333333332,
          15.5,
          13,
          12,
          14.666666666666666,
          7,
          20.666666666666668,
          7.166666666666667,
          14.333333333333334,
          12,
          12,
          13.5,
          13.666666666666666,
          13,
          20.5,
          12.083333333333334,
          12.083333333333334,
          18.666666666666668,
          3.7666666666666666,
          15,
          17.833333333333332,
          10.666666666666666,
          8.5,
          3.5,
          22.833333333333332,
          4.5,
          15,
          15.333333333333334,
          0.3333333333333333,
          6.5,
          8.666666666666666,
          8.666666666666666,
          21.5,
          20,
          19,
          8,
          19.5,
          11,
          15,
          8,
          19.583333333333332,
          20.5,
          7.5,
          7.5,
          14.666666666666666,
          5,
          5.333333333333333,
          12.5,
          22.5,
          19,
          2,
          23.416666666666668,
          12.083333333333334,
          4.333333333333333,
          19.5,
          14,
          22.666666666666668,
          6.5,
          12.083333333333334,
          23.5,
          23,
          5.833333333333333,
          14.166666666666666,
          4.75,
          20,
          13.666666666666666,
          19.75,
          18,
          21.5,
          8.666666666666666,
          15.333333333333334,
          6.5,
          18,
          9.25,
          11,
          12.083333333333334,
          7.5,
          13.666666666666666,
          13.666666666666666,
          17.5,
          0.8333333333333334,
          16.666666666666668,
          23.25,
          16.5,
          9.75,
          6.5,
          21.5,
          19.333333333333332,
          18.5,
          13.5,
          13.666666666666666,
          13.666666666666666,
          10.333333333333334,
          16.833333333333332,
          6.166666666666667,
          20.5,
          12,
          12,
          12.083333333333334,
          22,
          2,
          6.25,
          15.166666666666666,
          5,
          19.666666666666668,
          14.5,
          7,
          21,
          14.166666666666666,
          6.5,
          21,
          14.166666666666666,
          6.666666666666667,
          23.833333333333332,
          15.333333333333334,
          6.5,
          10,
          6.75,
          8.5,
          23,
          21.5,
          16,
          null,
          11.75,
          12.083333333333334,
          12.083333333333334,
          10,
          22.833333333333332,
          0,
          6.5,
          7.333333333333333,
          15.333333333333334,
          6.5,
          21.333333333333332,
          20.683333333333334,
          8.666666666666666,
          20.5,
          21.5,
          9,
          9,
          8.5,
          7.333333333333333,
          22.25,
          19.666666666666668,
          21,
          19.5,
          null,
          14,
          12.5,
          18.5,
          18.333333333333332,
          8,
          9.5,
          10,
          8.75,
          10,
          21.5,
          5.25,
          20.666666666666668,
          19.583333333333332,
          20.75,
          16,
          20.5,
          21.5,
          23.5,
          7,
          21.416666666666668,
          15.333333333333334,
          21,
          21.5,
          10.333333333333334,
          5.833333333333333,
          23.666666666666668,
          21,
          22,
          13.8,
          13.666666666666666,
          13.666666666666666,
          17.333333333333332,
          19,
          null,
          1.5,
          21.333333333333332,
          7,
          15.5,
          12.083333333333334,
          18.5,
          20.666666666666668,
          21.833333333333332,
          18.333333333333332,
          9.833333333333334,
          17.5,
          12.166666666666666,
          17,
          6.666666666666667,
          6.666666666666667,
          13.666666666666666,
          13.666666666666666,
          13.666666666666666,
          13.666666666666666,
          13.666666666666666,
          14.5,
          23.5,
          15.333333333333334,
          19.75,
          12,
          7.5,
          14,
          12.083333333333334,
          12.083333333333334,
          19.5,
          16.833333333333332,
          0.6666666666666666,
          20.5,
          8.833333333333334,
          19.5,
          6,
          6,
          5,
          7.166666666666667,
          19.833333333333332,
          21.666666666666668,
          0.25,
          5.5,
          12.916666666666666,
          null,
          16,
          null,
          null,
          14,
          10,
          22.5,
          15.833333333333334,
          13.5,
          5.916666666666667,
          5.916666666666667,
          8,
          8,
          0.16666666666666666,
          18.5,
          19.333333333333332,
          18,
          15,
          7.333333333333333,
          9.75,
          9.75,
          8.25,
          22,
          16.5,
          12.5,
          18,
          22,
          19.666666666666668,
          13,
          21.666666666666668,
          18.666666666666668,
          null,
          19,
          19.666666666666668,
          19.666666666666668,
          22,
          18.5,
          18.666666666666668,
          2,
          9.5,
          20,
          15.5,
          19.5,
          19,
          10.166666666666666,
          22.5,
          20.333333333333332,
          22.5,
          22,
          22.5,
          13.666666666666666,
          9.25,
          19.833333333333332,
          0.6666666666666666,
          22.5,
          20.5,
          19,
          0.25,
          9.5,
          8.5,
          14.333333333333334,
          12.083333333333334,
          16.5,
          16.5,
          14.166666666666666,
          22,
          21,
          19.833333333333332,
          19.166666666666668,
          8.666666666666666,
          8.666666666666666,
          8.666666666666666,
          21.5,
          22,
          6.666666666666667,
          23.666666666666668,
          19,
          null,
          null,
          6.333333333333333,
          6.5,
          16,
          10,
          22.666666666666668,
          17.666666666666668,
          22.666666666666668,
          21.5,
          18.25,
          12,
          10,
          7.666666666666667,
          8.333333333333334,
          8.5,
          19.333333333333332,
          20.75,
          10,
          20,
          9.666666666666666,
          6.833333333333333,
          11.5,
          9.666666666666666,
          8.5,
          9.5,
          9.5,
          21,
          null,
          9.666666666666666,
          6.833333333333333,
          21.5,
          null,
          6.916666666666667,
          6.5,
          10,
          12,
          23.5,
          20.5,
          18,
          18.5,
          17,
          7.5,
          22,
          16.5,
          10.166666666666666,
          null,
          12,
          17,
          17.5,
          6.75,
          22,
          6.833333333333333,
          null,
          null,
          10.333333333333334,
          19,
          9.25,
          6.75,
          10,
          null,
          20.5,
          9.75,
          7.333333333333333,
          9.25,
          18.5,
          10,
          21.5,
          8,
          20,
          14,
          20.5,
          16,
          7.333333333333333,
          15.866666666666667,
          9.25,
          8.333333333333334,
          19.5,
          21,
          1,
          20,
          21.833333333333332,
          13.666666666666666,
          9.25,
          9.25,
          15.5,
          9.25,
          9.25,
          8,
          13.5,
          5.166666666666667,
          9.25,
          12.083333333333334,
          8.333333333333334,
          20,
          15.5,
          20.5,
          5.916666666666667,
          17,
          9,
          4,
          18.416666666666668,
          9.25,
          14.5,
          17,
          7.133333333333334,
          9.25,
          19,
          16.5,
          16.5,
          8.333333333333334,
          21.333333333333332,
          21.333333333333332,
          21.333333333333332,
          21.333333333333332,
          21.333333333333332,
          18,
          8,
          22.5,
          19.5,
          19.75,
          7.75,
          null,
          18.5,
          21.75,
          23,
          15.5,
          12,
          21.333333333333332,
          16.383333333333333,
          17.333333333333332,
          8.083333333333334,
          13.5,
          22.5,
          14.866666666666667,
          20.683333333333334,
          23.5,
          20.166666666666668,
          1,
          7.5,
          11.333333333333334,
          16.5,
          23.5,
          10.333333333333334,
          19.5,
          3,
          null,
          21.5,
          21,
          21.333333333333332,
          21,
          11.333333333333334,
          21.166666666666668,
          13,
          7,
          11.333333333333334,
          6.833333333333333,
          9,
          7.866666666666667,
          7,
          10,
          10,
          17.833333333333332,
          21.25,
          22,
          19.5,
          null,
          16.5,
          21.5,
          21.166666666666668,
          12,
          9.666666666666666,
          16.5,
          9.333333333333334,
          15.666666666666666,
          19.5,
          13.083333333333334,
          21,
          23.5,
          9.166666666666666,
          16.75,
          22,
          12,
          19,
          12.5,
          8.5,
          16.5,
          19.666666666666668,
          10.466666666666667,
          19.5,
          12,
          17,
          17,
          18.833333333333332,
          12.5,
          11,
          22,
          7.25,
          7.25,
          17.666666666666668,
          10.466666666666667,
          12.5,
          12.5,
          12.5,
          18.833333333333332,
          19.5,
          16,
          19.216666666666665,
          17,
          12.5,
          7.25,
          7.25,
          11.5,
          8.416666666666666,
          9.833333333333334,
          9,
          22.166666666666668,
          20.833333333333332,
          6.25,
          11.5,
          9.25,
          9.5,
          20,
          16.5,
          9.166666666666666,
          16,
          10.466666666666667,
          18,
          8.5,
          20.5,
          11.25,
          22,
          16,
          20.133333333333333,
          5.5,
          19.5,
          9.166666666666666,
          15.166666666666666,
          14,
          8.416666666666666,
          null,
          9,
          null,
          19.5,
          12,
          7.25,
          7.25,
          7.25,
          20.75,
          10.5,
          23,
          7.25,
          7.25,
          16,
          13.916666666666666,
          21.333333333333332,
          0.5,
          7.166666666666667,
          0.5,
          21.833333333333332,
          14,
          21.333333333333332,
          16,
          20.5,
          0.5,
          12,
          19,
          9,
          15,
          12,
          23,
          null,
          20,
          7,
          11.166666666666666,
          19.666666666666668,
          20,
          null,
          23.333333333333332,
          null,
          18.583333333333332,
          5.833333333333333,
          21.35,
          0.5,
          12.25,
          12,
          20.5,
          5.666666666666667,
          18.5,
          12,
          19,
          6.333333333333333,
          5.5,
          18.5,
          11.333333333333334,
          9,
          23,
          20.5,
          22,
          22.5,
          7.5,
          22,
          19,
          null,
          19.5,
          23,
          3.1166666666666667,
          18.5,
          22,
          10,
          21.25,
          20.5,
          12.1,
          23,
          17.666666666666668,
          null,
          10.916666666666666,
          6,
          16,
          4.25,
          23,
          22.5,
          19.166666666666668,
          12,
          15,
          18.5,
          22.5,
          20.5,
          19.566666666666666,
          23.166666666666668,
          13.283333333333333,
          22,
          20,
          23,
          19.5,
          9.5,
          16,
          17.5,
          21.633333333333333,
          19.5,
          4.5,
          23,
          8,
          19.166666666666668,
          22.5,
          18.5,
          18.5,
          20,
          null,
          8.333333333333334,
          23.833333333333332,
          2.1666666666666665,
          22.5,
          14.5,
          2.1666666666666665,
          21.5,
          21,
          19.333333333333332,
          9.166666666666666,
          5.833333333333333,
          22,
          8.666666666666666,
          null,
          7.666666666666667,
          20.75,
          null,
          21,
          18.5,
          21.166666666666668,
          20.75,
          21.333333333333332,
          19.166666666666668,
          22,
          9,
          20,
          19.5,
          21.166666666666668,
          12.5,
          18.333333333333332,
          7.25,
          7.25,
          17,
          11.5,
          18.5,
          1.5,
          3,
          19.166666666666668,
          9,
          18.166666666666668,
          13,
          8.333333333333334,
          7.666666666666667,
          22,
          17.666666666666668,
          16,
          15,
          8.333333333333334,
          6,
          23,
          14.333333333333334,
          18,
          11.166666666666666,
          19,
          8.333333333333334,
          16,
          14.333333333333334,
          8.666666666666666,
          20.5,
          9.75,
          16.666666666666668,
          18.5,
          7.333333333333333,
          12.666666666666666,
          4.5,
          21,
          18.5,
          null,
          9.5,
          19,
          12.833333333333334,
          7.5,
          17,
          6.75,
          20.25,
          22,
          12.25,
          10,
          9.333333333333334,
          18.5,
          20.5,
          11.166666666666666,
          15,
          18.833333333333332,
          17.333333333333332,
          6,
          8.166666666666666,
          15,
          null,
          8.333333333333334,
          7.5,
          null,
          20.5,
          8.333333333333334,
          15,
          10.666666666666666,
          22.666666666666668,
          0.16666666666666666,
          17,
          13.5,
          null,
          10.5,
          17.75,
          6.666666666666667,
          16.75,
          17.5,
          19,
          0.5,
          0.5,
          8.333333333333334,
          20.166666666666668,
          11.5,
          2.1666666666666665,
          21.25,
          null,
          5.466666666666667,
          16.5,
          16,
          12.583333333333334,
          10,
          15.75,
          19.666666666666668,
          7.583333333333333,
          20.5,
          11.333333333333334,
          null,
          20.166666666666668,
          9.25,
          7.666666666666667,
          19.5,
          15.5,
          15.5,
          10,
          10.466666666666667,
          6.583333333333333,
          7.25,
          7.25,
          7.25,
          21.333333333333332,
          21.666666666666668,
          0,
          6.5,
          8.416666666666666,
          10.333333333333334,
          18.5,
          8.5,
          20,
          14.5,
          18.25,
          0.3333333333333333,
          4,
          9.833333333333334,
          17.5,
          18.5,
          9.5,
          7.25,
          20,
          17.833333333333332,
          8.416666666666666,
          19.333333333333332,
          18,
          6.5,
          19.833333333333332,
          16.5,
          18.666666666666668,
          20.8,
          17,
          6,
          null,
          12.5,
          8.666666666666666,
          20.5,
          18.5,
          19,
          16.766666666666666,
          18.5,
          15,
          6.75,
          12,
          null,
          15.833333333333334,
          17.416666666666668,
          22,
          23,
          10,
          11.666666666666666,
          17.666666666666668,
          7.25,
          18.833333333333332,
          13,
          10.5,
          9,
          11.75,
          17.666666666666668,
          14,
          7.583333333333333,
          7.666666666666667,
          null,
          null,
          8.833333333333334,
          19,
          11.5,
          15.25,
          10.166666666666666,
          22.333333333333332,
          7.333333333333333,
          7.5,
          12,
          7,
          22.5,
          8.666666666666666,
          8.666666666666666,
          8.666666666666666,
          12.5,
          11.5,
          null,
          null,
          12.5,
          9,
          5.25,
          11.166666666666666,
          5.833333333333333,
          16,
          20,
          5.5,
          19.5,
          19.833333333333332,
          null,
          20,
          17.333333333333332,
          6.833333333333333,
          20,
          10,
          10,
          7,
          16.5,
          22.75,
          19.166666666666668,
          17.666666666666668,
          10.5,
          7.25,
          7.25,
          12.5,
          12.5,
          20.5,
          11.333333333333334,
          11.5,
          22,
          10.75,
          8.833333333333334,
          0.5833333333333334,
          12,
          13,
          23.5,
          null,
          15,
          null,
          8.833333333333334,
          10,
          11.5,
          19.833333333333332,
          18.283333333333335,
          11,
          23,
          12.5,
          19.5,
          14.333333333333334,
          19,
          null,
          2.1666666666666665,
          13,
          2,
          19,
          null,
          8.666666666666666,
          8.666666666666666,
          14,
          10.083333333333334,
          null,
          null,
          9,
          12,
          8,
          8,
          20,
          13.666666666666666,
          12,
          12.083333333333334,
          12.083333333333334,
          12.083333333333334,
          16.5,
          18.666666666666668,
          23,
          15.666666666666666,
          6.5,
          21.333333333333332,
          5.916666666666667,
          19.25,
          19.666666666666668,
          null,
          20.5,
          19,
          7.166666666666667,
          22.5,
          22.666666666666668,
          22.666666666666668,
          18,
          2.5,
          13,
          15,
          10,
          21,
          20.5,
          null,
          9.333333333333334,
          18.75,
          20,
          9.666666666666666,
          6.833333333333333,
          9,
          6.75,
          20.166666666666668,
          18,
          10,
          16.65,
          9.5,
          9.25,
          9.916666666666666,
          9,
          16,
          7,
          16.5,
          8.25,
          7.25,
          12.5,
          9.966666666666667,
          9.166666666666666,
          20.5,
          19.766666666666666,
          19,
          17.666666666666668,
          21.333333333333332,
          21,
          23,
          18.5,
          18.5,
          21,
          9.666666666666666,
          2.1666666666666665,
          null,
          7,
          18.5,
          11.5,
          10,
          8.333333333333334,
          15.5
         ],
         "xaxis": "x",
         "yaxis": "y"
        }
       ],
       "layout": {
        "autosize": true,
        "barmode": "relative",
        "legend": {
         "title": {
          "text": "variable"
         },
         "tracegroupgap": 0
        },
        "margin": {
         "t": 60
        },
        "template": {
         "data": {
          "bar": [
           {
            "error_x": {
             "color": "#2a3f5f"
            },
            "error_y": {
             "color": "#2a3f5f"
            },
            "marker": {
             "line": {
              "color": "#E5ECF6",
              "width": 0.5
             },
             "pattern": {
              "fillmode": "overlay",
              "size": 10,
              "solidity": 0.2
             }
            },
            "type": "bar"
           }
          ],
          "barpolar": [
           {
            "marker": {
             "line": {
              "color": "#E5ECF6",
              "width": 0.5
             },
             "pattern": {
              "fillmode": "overlay",
              "size": 10,
              "solidity": 0.2
             }
            },
            "type": "barpolar"
           }
          ],
          "carpet": [
           {
            "aaxis": {
             "endlinecolor": "#2a3f5f",
             "gridcolor": "white",
             "linecolor": "white",
             "minorgridcolor": "white",
             "startlinecolor": "#2a3f5f"
            },
            "baxis": {
             "endlinecolor": "#2a3f5f",
             "gridcolor": "white",
             "linecolor": "white",
             "minorgridcolor": "white",
             "startlinecolor": "#2a3f5f"
            },
            "type": "carpet"
           }
          ],
          "choropleth": [
           {
            "colorbar": {
             "outlinewidth": 0,
             "ticks": ""
            },
            "type": "choropleth"
           }
          ],
          "contour": [
           {
            "colorbar": {
             "outlinewidth": 0,
             "ticks": ""
            },
            "colorscale": [
             [
              0,
              "#0d0887"
             ],
             [
              0.1111111111111111,
              "#46039f"
             ],
             [
              0.2222222222222222,
              "#7201a8"
             ],
             [
              0.3333333333333333,
              "#9c179e"
             ],
             [
              0.4444444444444444,
              "#bd3786"
             ],
             [
              0.5555555555555556,
              "#d8576b"
             ],
             [
              0.6666666666666666,
              "#ed7953"
             ],
             [
              0.7777777777777778,
              "#fb9f3a"
             ],
             [
              0.8888888888888888,
              "#fdca26"
             ],
             [
              1,
              "#f0f921"
             ]
            ],
            "type": "contour"
           }
          ],
          "contourcarpet": [
           {
            "colorbar": {
             "outlinewidth": 0,
             "ticks": ""
            },
            "type": "contourcarpet"
           }
          ],
          "heatmap": [
           {
            "colorbar": {
             "outlinewidth": 0,
             "ticks": ""
            },
            "colorscale": [
             [
              0,
              "#0d0887"
             ],
             [
              0.1111111111111111,
              "#46039f"
             ],
             [
              0.2222222222222222,
              "#7201a8"
             ],
             [
              0.3333333333333333,
              "#9c179e"
             ],
             [
              0.4444444444444444,
              "#bd3786"
             ],
             [
              0.5555555555555556,
              "#d8576b"
             ],
             [
              0.6666666666666666,
              "#ed7953"
             ],
             [
              0.7777777777777778,
              "#fb9f3a"
             ],
             [
              0.8888888888888888,
              "#fdca26"
             ],
             [
              1,
              "#f0f921"
             ]
            ],
            "type": "heatmap"
           }
          ],
          "heatmapgl": [
           {
            "colorbar": {
             "outlinewidth": 0,
             "ticks": ""
            },
            "colorscale": [
             [
              0,
              "#0d0887"
             ],
             [
              0.1111111111111111,
              "#46039f"
             ],
             [
              0.2222222222222222,
              "#7201a8"
             ],
             [
              0.3333333333333333,
              "#9c179e"
             ],
             [
              0.4444444444444444,
              "#bd3786"
             ],
             [
              0.5555555555555556,
              "#d8576b"
             ],
             [
              0.6666666666666666,
              "#ed7953"
             ],
             [
              0.7777777777777778,
              "#fb9f3a"
             ],
             [
              0.8888888888888888,
              "#fdca26"
             ],
             [
              1,
              "#f0f921"
             ]
            ],
            "type": "heatmapgl"
           }
          ],
          "histogram": [
           {
            "marker": {
             "pattern": {
              "fillmode": "overlay",
              "size": 10,
              "solidity": 0.2
             }
            },
            "type": "histogram"
           }
          ],
          "histogram2d": [
           {
            "colorbar": {
             "outlinewidth": 0,
             "ticks": ""
            },
            "colorscale": [
             [
              0,
              "#0d0887"
             ],
             [
              0.1111111111111111,
              "#46039f"
             ],
             [
              0.2222222222222222,
              "#7201a8"
             ],
             [
              0.3333333333333333,
              "#9c179e"
             ],
             [
              0.4444444444444444,
              "#bd3786"
             ],
             [
              0.5555555555555556,
              "#d8576b"
             ],
             [
              0.6666666666666666,
              "#ed7953"
             ],
             [
              0.7777777777777778,
              "#fb9f3a"
             ],
             [
              0.8888888888888888,
              "#fdca26"
             ],
             [
              1,
              "#f0f921"
             ]
            ],
            "type": "histogram2d"
           }
          ],
          "histogram2dcontour": [
           {
            "colorbar": {
             "outlinewidth": 0,
             "ticks": ""
            },
            "colorscale": [
             [
              0,
              "#0d0887"
             ],
             [
              0.1111111111111111,
              "#46039f"
             ],
             [
              0.2222222222222222,
              "#7201a8"
             ],
             [
              0.3333333333333333,
              "#9c179e"
             ],
             [
              0.4444444444444444,
              "#bd3786"
             ],
             [
              0.5555555555555556,
              "#d8576b"
             ],
             [
              0.6666666666666666,
              "#ed7953"
             ],
             [
              0.7777777777777778,
              "#fb9f3a"
             ],
             [
              0.8888888888888888,
              "#fdca26"
             ],
             [
              1,
              "#f0f921"
             ]
            ],
            "type": "histogram2dcontour"
           }
          ],
          "mesh3d": [
           {
            "colorbar": {
             "outlinewidth": 0,
             "ticks": ""
            },
            "type": "mesh3d"
           }
          ],
          "parcoords": [
           {
            "line": {
             "colorbar": {
              "outlinewidth": 0,
              "ticks": ""
             }
            },
            "type": "parcoords"
           }
          ],
          "pie": [
           {
            "automargin": true,
            "type": "pie"
           }
          ],
          "scatter": [
           {
            "fillpattern": {
             "fillmode": "overlay",
             "size": 10,
             "solidity": 0.2
            },
            "type": "scatter"
           }
          ],
          "scatter3d": [
           {
            "line": {
             "colorbar": {
              "outlinewidth": 0,
              "ticks": ""
             }
            },
            "marker": {
             "colorbar": {
              "outlinewidth": 0,
              "ticks": ""
             }
            },
            "type": "scatter3d"
           }
          ],
          "scattercarpet": [
           {
            "marker": {
             "colorbar": {
              "outlinewidth": 0,
              "ticks": ""
             }
            },
            "type": "scattercarpet"
           }
          ],
          "scattergeo": [
           {
            "marker": {
             "colorbar": {
              "outlinewidth": 0,
              "ticks": ""
             }
            },
            "type": "scattergeo"
           }
          ],
          "scattergl": [
           {
            "marker": {
             "colorbar": {
              "outlinewidth": 0,
              "ticks": ""
             }
            },
            "type": "scattergl"
           }
          ],
          "scattermapbox": [
           {
            "marker": {
             "colorbar": {
              "outlinewidth": 0,
              "ticks": ""
             }
            },
            "type": "scattermapbox"
           }
          ],
          "scatterpolar": [
           {
            "marker": {
             "colorbar": {
              "outlinewidth": 0,
              "ticks": ""
             }
            },
            "type": "scatterpolar"
           }
          ],
          "scatterpolargl": [
           {
            "marker": {
             "colorbar": {
              "outlinewidth": 0,
              "ticks": ""
             }
            },
            "type": "scatterpolargl"
           }
          ],
          "scatterternary": [
           {
            "marker": {
             "colorbar": {
              "outlinewidth": 0,
              "ticks": ""
             }
            },
            "type": "scatterternary"
           }
          ],
          "surface": [
           {
            "colorbar": {
             "outlinewidth": 0,
             "ticks": ""
            },
            "colorscale": [
             [
              0,
              "#0d0887"
             ],
             [
              0.1111111111111111,
              "#46039f"
             ],
             [
              0.2222222222222222,
              "#7201a8"
             ],
             [
              0.3333333333333333,
              "#9c179e"
             ],
             [
              0.4444444444444444,
              "#bd3786"
             ],
             [
              0.5555555555555556,
              "#d8576b"
             ],
             [
              0.6666666666666666,
              "#ed7953"
             ],
             [
              0.7777777777777778,
              "#fb9f3a"
             ],
             [
              0.8888888888888888,
              "#fdca26"
             ],
             [
              1,
              "#f0f921"
             ]
            ],
            "type": "surface"
           }
          ],
          "table": [
           {
            "cells": {
             "fill": {
              "color": "#EBF0F8"
             },
             "line": {
              "color": "white"
             }
            },
            "header": {
             "fill": {
              "color": "#C8D4E3"
             },
             "line": {
              "color": "white"
             }
            },
            "type": "table"
           }
          ]
         },
         "layout": {
          "annotationdefaults": {
           "arrowcolor": "#2a3f5f",
           "arrowhead": 0,
           "arrowwidth": 1
          },
          "autotypenumbers": "strict",
          "coloraxis": {
           "colorbar": {
            "outlinewidth": 0,
            "ticks": ""
           }
          },
          "colorscale": {
           "diverging": [
            [
             0,
             "#8e0152"
            ],
            [
             0.1,
             "#c51b7d"
            ],
            [
             0.2,
             "#de77ae"
            ],
            [
             0.3,
             "#f1b6da"
            ],
            [
             0.4,
             "#fde0ef"
            ],
            [
             0.5,
             "#f7f7f7"
            ],
            [
             0.6,
             "#e6f5d0"
            ],
            [
             0.7,
             "#b8e186"
            ],
            [
             0.8,
             "#7fbc41"
            ],
            [
             0.9,
             "#4d9221"
            ],
            [
             1,
             "#276419"
            ]
           ],
           "sequential": [
            [
             0,
             "#0d0887"
            ],
            [
             0.1111111111111111,
             "#46039f"
            ],
            [
             0.2222222222222222,
             "#7201a8"
            ],
            [
             0.3333333333333333,
             "#9c179e"
            ],
            [
             0.4444444444444444,
             "#bd3786"
            ],
            [
             0.5555555555555556,
             "#d8576b"
            ],
            [
             0.6666666666666666,
             "#ed7953"
            ],
            [
             0.7777777777777778,
             "#fb9f3a"
            ],
            [
             0.8888888888888888,
             "#fdca26"
            ],
            [
             1,
             "#f0f921"
            ]
           ],
           "sequentialminus": [
            [
             0,
             "#0d0887"
            ],
            [
             0.1111111111111111,
             "#46039f"
            ],
            [
             0.2222222222222222,
             "#7201a8"
            ],
            [
             0.3333333333333333,
             "#9c179e"
            ],
            [
             0.4444444444444444,
             "#bd3786"
            ],
            [
             0.5555555555555556,
             "#d8576b"
            ],
            [
             0.6666666666666666,
             "#ed7953"
            ],
            [
             0.7777777777777778,
             "#fb9f3a"
            ],
            [
             0.8888888888888888,
             "#fdca26"
            ],
            [
             1,
             "#f0f921"
            ]
           ]
          },
          "colorway": [
           "#636efa",
           "#EF553B",
           "#00cc96",
           "#ab63fa",
           "#FFA15A",
           "#19d3f3",
           "#FF6692",
           "#B6E880",
           "#FF97FF",
           "#FECB52"
          ],
          "font": {
           "color": "#2a3f5f"
          },
          "geo": {
           "bgcolor": "white",
           "lakecolor": "white",
           "landcolor": "#E5ECF6",
           "showlakes": true,
           "showland": true,
           "subunitcolor": "white"
          },
          "hoverlabel": {
           "align": "left"
          },
          "hovermode": "closest",
          "mapbox": {
           "style": "light"
          },
          "paper_bgcolor": "white",
          "plot_bgcolor": "#E5ECF6",
          "polar": {
           "angularaxis": {
            "gridcolor": "white",
            "linecolor": "white",
            "ticks": ""
           },
           "bgcolor": "#E5ECF6",
           "radialaxis": {
            "gridcolor": "white",
            "linecolor": "white",
            "ticks": ""
           }
          },
          "scene": {
           "xaxis": {
            "backgroundcolor": "#E5ECF6",
            "gridcolor": "white",
            "gridwidth": 2,
            "linecolor": "white",
            "showbackground": true,
            "ticks": "",
            "zerolinecolor": "white"
           },
           "yaxis": {
            "backgroundcolor": "#E5ECF6",
            "gridcolor": "white",
            "gridwidth": 2,
            "linecolor": "white",
            "showbackground": true,
            "ticks": "",
            "zerolinecolor": "white"
           },
           "zaxis": {
            "backgroundcolor": "#E5ECF6",
            "gridcolor": "white",
            "gridwidth": 2,
            "linecolor": "white",
            "showbackground": true,
            "ticks": "",
            "zerolinecolor": "white"
           }
          },
          "shapedefaults": {
           "line": {
            "color": "#2a3f5f"
           }
          },
          "ternary": {
           "aaxis": {
            "gridcolor": "white",
            "linecolor": "white",
            "ticks": ""
           },
           "baxis": {
            "gridcolor": "white",
            "linecolor": "white",
            "ticks": ""
           },
           "bgcolor": "#E5ECF6",
           "caxis": {
            "gridcolor": "white",
            "linecolor": "white",
            "ticks": ""
           }
          },
          "title": {
           "x": 0.05
          },
          "xaxis": {
           "automargin": true,
           "gridcolor": "white",
           "linecolor": "white",
           "ticks": "",
           "title": {
            "standoff": 15
           },
           "zerolinecolor": "white",
           "zerolinewidth": 2
          },
          "yaxis": {
           "automargin": true,
           "gridcolor": "white",
           "linecolor": "white",
           "ticks": "",
           "title": {
            "standoff": 15
           },
           "zerolinecolor": "white",
           "zerolinewidth": 2
          }
         }
        },
        "xaxis": {
         "anchor": "y",
         "autorange": true,
         "domain": [
          0,
          1
         ],
         "dtick": 1,
         "range": [
          0,
          24
         ],
         "tick0": 0,
         "tickmode": "linear",
         "title": {
          "text": "value"
         },
         "type": "linear"
        },
        "yaxis": {
         "anchor": "x",
         "autorange": true,
         "domain": [
          0,
          1
         ],
         "range": [
          0,
          107.36842105263158
         ],
         "title": {
          "text": "count"
         }
        }
       }
      },
      "image/png": "[encoded data removed]",
      "text/html": [
       "<div>                            <div id=\"603ecacc-c6f3-440b-8604-e0c35aa2cb24\" class=\"plotly-graph-div\" style=\"height:525px; width:100%;\"></div>            <script type=\"text/javascript\">                require([\"plotly\"], function(Plotly) {                    window.PLOTLYENV=window.PLOTLYENV || {};                                    if (document.getElementById(\"603ecacc-c6f3-440b-8604-e0c35aa2cb24\")) {                    Plotly.newPlot(                        \"603ecacc-c6f3-440b-8604-e0c35aa2cb24\",                        [{\"alignmentgroup\":\"True\",\"bingroup\":\"x\",\"hovertemplate\":\"variable=HORA_OCORRENCIA_BO<br>value=%{x}<br>count=%{y}<extra></extra>\",\"legendgroup\":\"HORA_OCORRENCIA_BO\",\"marker\":{\"color\":\"#636efa\",\"pattern\":{\"shape\":\"\"}},\"name\":\"HORA_OCORRENCIA_BO\",\"nbinsx\":24,\"offsetgroup\":\"HORA_OCORRENCIA_BO\",\"orientation\":\"v\",\"showlegend\":true,\"x\":[6.0,11.0,5.833333333333333,12.0,9.5,9.0,13.333333333333334,11.0,11.5,13.5,9.0,5.833333333333333,12.333333333333334,21.333333333333332,11.5,19.0,9.0,11.5,11.5,11.166666666666666,21.333333333333332,21.333333333333332,5.5,7.333333333333333,16.5,10.0,10.0,9.5,12.5,10.0,9.5,21.333333333333332,13.5,18.5,8.5,8.5,21.333333333333332,21.5,10.0,19.666666666666668,8.5,19.5,6.25,19.5,21.0,8.5,18.833333333333332,5.416666666666667,16.0,17.166666666666668,7.5,null,7.5,7.5,21.0,10.666666666666666,7.666666666666667,10.2,14.0,18.65,12.0,23.5,8.75,7.5,8.5,16.0,20.5,20.5,8.0,18.333333333333332,9.0,6.0,10.2,20.5,19.0,5.5,18.0,12.083333333333334,17.5,7.5,18.166666666666668,6.0,6.5,14.833333333333334,9.666666666666666,12.666666666666666,8.0,7.583333333333333,9.0,9.0,7.583333333333333,7.583333333333333,9.0,7.0,6.666666666666667,8.833333333333334,21.0,8.25,8.25,11.5,15.333333333333334,10.5,17.75,null,7.583333333333333,9.0,16.5,9.5,8.833333333333334,8.833333333333334,9.0,null,17.5,16.5,10.0,13.5,18.5,21.5,19.5,21.666666666666668,10.0,8.166666666666666,8.25,8.25,7.666666666666667,20.0,22.333333333333332,5.0,7.333333333333333,9.333333333333334,6.333333333333333,20.0,8.25,11.166666666666666,9.0,23.0,5.25,7.0,11.5,8.833333333333334,6.833333333333333,8.25,5.75,10.5,10.5,7.333333333333333,19.916666666666668,14.333333333333334,19.0,8.666666666666666,20.5,5.333333333333333,5.0,9.0,18.5,15.633333333333333,18.5,10.5,16.333333333333332,19.666666666666668,7.583333333333333,7.583333333333333,10.0,19.75,10.666666666666666,22.0,23.666666666666668,10.666666666666666,7.583333333333333,9.0,12.666666666666666,20.5,8.666666666666666,8.666666666666666,16.666666666666668,10.5,13.0,10.166666666666666,17.666666666666668,5.666666666666667,8.333333333333334,5.333333333333333,11.0,10.166666666666666,11.833333333333334,23.0,11.5,19.5,22.833333333333332,17.0,7.0,7.166666666666667,19.25,22.833333333333332,8.25,19.0,12.283333333333333,18.5,10.0,20.0,17.5,7.5,null,10.0,19.0,22.833333333333332,null,4.0,22.5,22.833333333333332,20.666666666666668,14.333333333333334,21.166666666666668,8.25,12.5,8.666666666666666,8.666666666666666,16.0,8.5,19.333333333333332,6.333333333333333,12.0,17.0,20.666666666666668,8.666666666666666,19.333333333333332,9.5,12.75,16.5,8.666666666666666,8.666666666666666,8.666666666666666,8.666666666666666,8.666666666666666,6.5,10.5,6.0,18.666666666666668,8.666666666666666,8.666666666666666,8.666666666666666,8.666666666666666,8.666666666666666,21.0,7.333333333333333,8.666666666666666,18.5,null,15.666666666666666,18.25,9.666666666666666,14.5,18.333333333333332,6.0,10.5,15.0,8.666666666666666,10.5,14.666666666666666,21.333333333333332,23.5,7.5,10.5,20.666666666666668,16.416666666666668,17.5,10.0,9.0,14.0,null,23.0,11.0,18.5,19.0,9.5,14.666666666666666,21.75,5.25,10.0,20.0,19.5,null,16.416666666666668,22.5,10.5,7.333333333333333,16.666666666666668,20.666666666666668,19.5,10.0,9.25,12.5,20.333333333333332,13.5,8.666666666666666,20.5,12.25,null,19.5,23.0,7.0,6.5,16.833333333333332,19.0,16.5,17.5,21.0,10.0,5.833333333333333,10.166666666666666,18.5,6.5,10.0,18.833333333333332,15.5,13.0,12.0,14.666666666666666,7.0,20.666666666666668,7.166666666666667,14.333333333333334,12.0,12.0,13.5,13.666666666666666,13.0,20.5,12.083333333333334,12.083333333333334,18.666666666666668,3.7666666666666666,15.0,17.833333333333332,10.666666666666666,8.5,3.5,22.833333333333332,4.5,15.0,15.333333333333334,0.3333333333333333,6.5,8.666666666666666,8.666666666666666,21.5,20.0,19.0,8.0,19.5,11.0,15.0,8.0,19.583333333333332,20.5,7.5,7.5,14.666666666666666,5.0,5.333333333333333,12.5,22.5,19.0,2.0,23.416666666666668,12.083333333333334,4.333333333333333,19.5,14.0,22.666666666666668,6.5,12.083333333333334,23.5,23.0,5.833333333333333,14.166666666666666,4.75,20.0,13.666666666666666,19.75,18.0,21.5,8.666666666666666,15.333333333333334,6.5,18.0,9.25,11.0,12.083333333333334,7.5,13.666666666666666,13.666666666666666,17.5,0.8333333333333334,16.666666666666668,23.25,16.5,9.75,6.5,21.5,19.333333333333332,18.5,13.5,13.666666666666666,13.666666666666666,10.333333333333334,16.833333333333332,6.166666666666667,20.5,12.0,12.0,12.083333333333334,22.0,2.0,6.25,15.166666666666666,5.0,19.666666666666668,14.5,7.0,21.0,14.166666666666666,6.5,21.0,14.166666666666666,6.666666666666667,23.833333333333332,15.333333333333334,6.5,10.0,6.75,8.5,23.0,21.5,16.0,null,11.75,12.083333333333334,12.083333333333334,10.0,22.833333333333332,0.0,6.5,7.333333333333333,15.333333333333334,6.5,21.333333333333332,20.683333333333334,8.666666666666666,20.5,21.5,9.0,9.0,8.5,7.333333333333333,22.25,19.666666666666668,21.0,19.5,null,14.0,12.5,18.5,18.333333333333332,8.0,9.5,10.0,8.75,10.0,21.5,5.25,20.666666666666668,19.583333333333332,20.75,16.0,20.5,21.5,23.5,7.0,21.416666666666668,15.333333333333334,21.0,21.5,10.333333333333334,5.833333333333333,23.666666666666668,21.0,22.0,13.8,13.666666666666666,13.666666666666666,17.333333333333332,19.0,null,1.5,21.333333333333332,7.0,15.5,12.083333333333334,18.5,20.666666666666668,21.833333333333332,18.333333333333332,9.833333333333334,17.5,12.166666666666666,17.0,6.666666666666667,6.666666666666667,13.666666666666666,13.666666666666666,13.666666666666666,13.666666666666666,13.666666666666666,14.5,23.5,15.333333333333334,19.75,12.0,7.5,14.0,12.083333333333334,12.083333333333334,19.5,16.833333333333332,0.6666666666666666,20.5,8.833333333333334,19.5,6.0,6.0,5.0,7.166666666666667,19.833333333333332,21.666666666666668,0.25,5.5,12.916666666666666,null,16.0,null,null,14.0,10.0,22.5,15.833333333333334,13.5,5.916666666666667,5.916666666666667,8.0,8.0,0.16666666666666666,18.5,19.333333333333332,18.0,15.0,7.333333333333333,9.75,9.75,8.25,22.0,16.5,12.5,18.0,22.0,19.666666666666668,13.0,21.666666666666668,18.666666666666668,null,19.0,19.666666666666668,19.666666666666668,22.0,18.5,18.666666666666668,2.0,9.5,20.0,15.5,19.5,19.0,10.166666666666666,22.5,20.333333333333332,22.5,22.0,22.5,13.666666666666666,9.25,19.833333333333332,0.6666666666666666,22.5,20.5,19.0,0.25,9.5,8.5,14.333333333333334,12.083333333333334,16.5,16.5,14.166666666666666,22.0,21.0,19.833333333333332,19.166666666666668,8.666666666666666,8.666666666666666,8.666666666666666,21.5,22.0,6.666666666666667,23.666666666666668,19.0,null,null,6.333333333333333,6.5,16.0,10.0,22.666666666666668,17.666666666666668,22.666666666666668,21.5,18.25,12.0,10.0,7.666666666666667,8.333333333333334,8.5,19.333333333333332,20.75,10.0,20.0,9.666666666666666,6.833333333333333,11.5,9.666666666666666,8.5,9.5,9.5,21.0,null,9.666666666666666,6.833333333333333,21.5,null,6.916666666666667,6.5,10.0,12.0,23.5,20.5,18.0,18.5,17.0,7.5,22.0,16.5,10.166666666666666,null,12.0,17.0,17.5,6.75,22.0,6.833333333333333,null,null,10.333333333333334,19.0,9.25,6.75,10.0,null,20.5,9.75,7.333333333333333,9.25,18.5,10.0,21.5,8.0,20.0,14.0,20.5,16.0,7.333333333333333,15.866666666666667,9.25,8.333333333333334,19.5,21.0,1.0,20.0,21.833333333333332,13.666666666666666,9.25,9.25,15.5,9.25,9.25,8.0,13.5,5.166666666666667,9.25,12.083333333333334,8.333333333333334,20.0,15.5,20.5,5.916666666666667,17.0,9.0,4.0,18.416666666666668,9.25,14.5,17.0,7.133333333333334,9.25,19.0,16.5,16.5,8.333333333333334,21.333333333333332,21.333333333333332,21.333333333333332,21.333333333333332,21.333333333333332,18.0,8.0,22.5,19.5,19.75,7.75,null,18.5,21.75,23.0,15.5,12.0,21.333333333333332,16.383333333333333,17.333333333333332,8.083333333333334,13.5,22.5,14.866666666666667,20.683333333333334,23.5,20.166666666666668,1.0,7.5,11.333333333333334,16.5,23.5,10.333333333333334,19.5,3.0,null,21.5,21.0,21.333333333333332,21.0,11.333333333333334,21.166666666666668,13.0,7.0,11.333333333333334,6.833333333333333,9.0,7.866666666666667,7.0,10.0,10.0,17.833333333333332,21.25,22.0,19.5,null,16.5,21.5,21.166666666666668,12.0,9.666666666666666,16.5,9.333333333333334,15.666666666666666,19.5,13.083333333333334,21.0,23.5,9.166666666666666,16.75,22.0,12.0,19.0,12.5,8.5,16.5,19.666666666666668,10.466666666666667,19.5,12.0,17.0,17.0,18.833333333333332,12.5,11.0,22.0,7.25,7.25,17.666666666666668,10.466666666666667,12.5,12.5,12.5,18.833333333333332,19.5,16.0,19.216666666666665,17.0,12.5,7.25,7.25,11.5,8.416666666666666,9.833333333333334,9.0,22.166666666666668,20.833333333333332,6.25,11.5,9.25,9.5,20.0,16.5,9.166666666666666,16.0,10.466666666666667,18.0,8.5,20.5,11.25,22.0,16.0,20.133333333333333,5.5,19.5,9.166666666666666,15.166666666666666,14.0,8.416666666666666,null,9.0,null,19.5,12.0,7.25,7.25,7.25,20.75,10.5,23.0,7.25,7.25,16.0,13.916666666666666,21.333333333333332,0.5,7.166666666666667,0.5,21.833333333333332,14.0,21.333333333333332,16.0,20.5,0.5,12.0,19.0,9.0,15.0,12.0,23.0,null,20.0,7.0,11.166666666666666,19.666666666666668,20.0,null,23.333333333333332,null,18.583333333333332,5.833333333333333,21.35,0.5,12.25,12.0,20.5,5.666666666666667,18.5,12.0,19.0,6.333333333333333,5.5,18.5,11.333333333333334,9.0,23.0,20.5,22.0,22.5,7.5,22.0,19.0,null,19.5,23.0,3.1166666666666667,18.5,22.0,10.0,21.25,20.5,12.1,23.0,17.666666666666668,null,10.916666666666666,6.0,16.0,4.25,23.0,22.5,19.166666666666668,12.0,15.0,18.5,22.5,20.5,19.566666666666666,23.166666666666668,13.283333333333333,22.0,20.0,23.0,19.5,9.5,16.0,17.5,21.633333333333333,19.5,4.5,23.0,8.0,19.166666666666668,22.5,18.5,18.5,20.0,null,8.333333333333334,23.833333333333332,2.1666666666666665,22.5,14.5,2.1666666666666665,21.5,21.0,19.333333333333332,9.166666666666666,5.833333333333333,22.0,8.666666666666666,null,7.666666666666667,20.75,null,21.0,18.5,21.166666666666668,20.75,21.333333333333332,19.166666666666668,22.0,9.0,20.0,19.5,21.166666666666668,12.5,18.333333333333332,7.25,7.25,17.0,11.5,18.5,1.5,3.0,19.166666666666668,9.0,18.166666666666668,13.0,8.333333333333334,7.666666666666667,22.0,17.666666666666668,16.0,15.0,8.333333333333334,6.0,23.0,14.333333333333334,18.0,11.166666666666666,19.0,8.333333333333334,16.0,14.333333333333334,8.666666666666666,20.5,9.75,16.666666666666668,18.5,7.333333333333333,12.666666666666666,4.5,21.0,18.5,null,9.5,19.0,12.833333333333334,7.5,17.0,6.75,20.25,22.0,12.25,10.0,9.333333333333334,18.5,20.5,11.166666666666666,15.0,18.833333333333332,17.333333333333332,6.0,8.166666666666666,15.0,null,8.333333333333334,7.5,null,20.5,8.333333333333334,15.0,10.666666666666666,22.666666666666668,0.16666666666666666,17.0,13.5,null,10.5,17.75,6.666666666666667,16.75,17.5,19.0,0.5,0.5,8.333333333333334,20.166666666666668,11.5,2.1666666666666665,21.25,null,5.466666666666667,16.5,16.0,12.583333333333334,10.0,15.75,19.666666666666668,7.583333333333333,20.5,11.333333333333334,null,20.166666666666668,9.25,7.666666666666667,19.5,15.5,15.5,10.0,10.466666666666667,6.583333333333333,7.25,7.25,7.25,21.333333333333332,21.666666666666668,0.0,6.5,8.416666666666666,10.333333333333334,18.5,8.5,20.0,14.5,18.25,0.3333333333333333,4.0,9.833333333333334,17.5,18.5,9.5,7.25,20.0,17.833333333333332,8.416666666666666,19.333333333333332,18.0,6.5,19.833333333333332,16.5,18.666666666666668,20.8,17.0,6.0,null,12.5,8.666666666666666,20.5,18.5,19.0,16.766666666666666,18.5,15.0,6.75,12.0,null,15.833333333333334,17.416666666666668,22.0,23.0,10.0,11.666666666666666,17.666666666666668,7.25,18.833333333333332,13.0,10.5,9.0,11.75,17.666666666666668,14.0,7.583333333333333,7.666666666666667,null,null,8.833333333333334,19.0,11.5,15.25,10.166666666666666,22.333333333333332,7.333333333333333,7.5,12.0,7.0,22.5,8.666666666666666,8.666666666666666,8.666666666666666,12.5,11.5,null,null,12.5,9.0,5.25,11.166666666666666,5.833333333333333,16.0,20.0,5.5,19.5,19.833333333333332,null,20.0,17.333333333333332,6.833333333333333,20.0,10.0,10.0,7.0,16.5,22.75,19.166666666666668,17.666666666666668,10.5,7.25,7.25,12.5,12.5,20.5,11.333333333333334,11.5,22.0,10.75,8.833333333333334,0.5833333333333334,12.0,13.0,23.5,null,15.0,null,8.833333333333334,10.0,11.5,19.833333333333332,18.283333333333335,11.0,23.0,12.5,19.5,14.333333333333334,19.0,null,2.1666666666666665,13.0,2.0,19.0,null,8.666666666666666,8.666666666666666,14.0,10.083333333333334,null,null,9.0,12.0,8.0,8.0,20.0,13.666666666666666,12.0,12.083333333333334,12.083333333333334,12.083333333333334,16.5,18.666666666666668,23.0,15.666666666666666,6.5,21.333333333333332,5.916666666666667,19.25,19.666666666666668,null,20.5,19.0,7.166666666666667,22.5,22.666666666666668,22.666666666666668,18.0,2.5,13.0,15.0,10.0,21.0,20.5,null,9.333333333333334,18.75,20.0,9.666666666666666,6.833333333333333,9.0,6.75,20.166666666666668,18.0,10.0,16.65,9.5,9.25,9.916666666666666,9.0,16.0,7.0,16.5,8.25,7.25,12.5,9.966666666666667,9.166666666666666,20.5,19.766666666666666,19.0,17.666666666666668,21.333333333333332,21.0,23.0,18.5,18.5,21.0,9.666666666666666,2.1666666666666665,null,7.0,18.5,11.5,10.0,8.333333333333334,15.5],\"xaxis\":\"x\",\"yaxis\":\"y\",\"type\":\"histogram\"}],                        {\"template\":{\"data\":{\"histogram2dcontour\":[{\"type\":\"histogram2dcontour\",\"colorbar\":{\"outlinewidth\":0,\"ticks\":\"\"},\"colorscale\":[[0.0,\"#0d0887\"],[0.1111111111111111,\"#46039f\"],[0.2222222222222222,\"#7201a8\"],[0.3333333333333333,\"#9c179e\"],[0.4444444444444444,\"#bd3786\"],[0.5555555555555556,\"#d8576b\"],[0.6666666666666666,\"#ed7953\"],[0.7777777777777778,\"#fb9f3a\"],[0.8888888888888888,\"#fdca26\"],[1.0,\"#f0f921\"]]}],\"choropleth\":[{\"type\":\"choropleth\",\"colorbar\":{\"outlinewidth\":0,\"ticks\":\"\"}}],\"histogram2d\":[{\"type\":\"histogram2d\",\"colorbar\":{\"outlinewidth\":0,\"ticks\":\"\"},\"colorscale\":[[0.0,\"#0d0887\"],[0.1111111111111111,\"#46039f\"],[0.2222222222222222,\"#7201a8\"],[0.3333333333333333,\"#9c179e\"],[0.4444444444444444,\"#bd3786\"],[0.5555555555555556,\"#d8576b\"],[0.6666666666666666,\"#ed7953\"],[0.7777777777777778,\"#fb9f3a\"],[0.8888888888888888,\"#fdca26\"],[1.0,\"#f0f921\"]]}],\"heatmap\":[{\"type\":\"heatmap\",\"colorbar\":{\"outlinewidth\":0,\"ticks\":\"\"},\"colorscale\":[[0.0,\"#0d0887\"],[0.1111111111111111,\"#46039f\"],[0.2222222222222222,\"#7201a8\"],[0.3333333333333333,\"#9c179e\"],[0.4444444444444444,\"#bd3786\"],[0.5555555555555556,\"#d8576b\"],[0.6666666666666666,\"#ed7953\"],[0.7777777777777778,\"#fb9f3a\"],[0.8888888888888888,\"#fdca26\"],[1.0,\"#f0f921\"]]}],\"heatmapgl\":[{\"type\":\"heatmapgl\",\"colorbar\":{\"outlinewidth\":0,\"ticks\":\"\"},\"colorscale\":[[0.0,\"#0d0887\"],[0.1111111111111111,\"#46039f\"],[0.2222222222222222,\"#7201a8\"],[0.3333333333333333,\"#9c179e\"],[0.4444444444444444,\"#bd3786\"],[0.5555555555555556,\"#d8576b\"],[0.6666666666666666,\"#ed7953\"],[0.7777777777777778,\"#fb9f3a\"],[0.8888888888888888,\"#fdca26\"],[1.0,\"#f0f921\"]]}],\"contourcarpet\":[{\"type\":\"contourcarpet\",\"colorbar\":{\"outlinewidth\":0,\"ticks\":\"\"}}],\"contour\":[{\"type\":\"contour\",\"colorbar\":{\"outlinewidth\":0,\"ticks\":\"\"},\"colorscale\":[[0.0,\"#0d0887\"],[0.1111111111111111,\"#46039f\"],[0.2222222222222222,\"#7201a8\"],[0.3333333333333333,\"#9c179e\"],[0.4444444444444444,\"#bd3786\"],[0.5555555555555556,\"#d8576b\"],[0.6666666666666666,\"#ed7953\"],[0.7777777777777778,\"#fb9f3a\"],[0.8888888888888888,\"#fdca26\"],[1.0,\"#f0f921\"]]}],\"surface\":[{\"type\":\"surface\",\"colorbar\":{\"outlinewidth\":0,\"ticks\":\"\"},\"colorscale\":[[0.0,\"#0d0887\"],[0.1111111111111111,\"#46039f\"],[0.2222222222222222,\"#7201a8\"],[0.3333333333333333,\"#9c179e\"],[0.4444444444444444,\"#bd3786\"],[0.5555555555555556,\"#d8576b\"],[0.6666666666666666,\"#ed7953\"],[0.7777777777777778,\"#fb9f3a\"],[0.8888888888888888,\"#fdca26\"],[1.0,\"#f0f921\"]]}],\"mesh3d\":[{\"type\":\"mesh3d\",\"colorbar\":{\"outlinewidth\":0,\"ticks\":\"\"}}],\"scatter\":[{\"fillpattern\":{\"fillmode\":\"overlay\",\"size\":10,\"solidity\":0.2},\"type\":\"scatter\"}],\"parcoords\":[{\"type\":\"parcoords\",\"line\":{\"colorbar\":{\"outlinewidth\":0,\"ticks\":\"\"}}}],\"scatterpolargl\":[{\"type\":\"scatterpolargl\",\"marker\":{\"colorbar\":{\"outlinewidth\":0,\"ticks\":\"\"}}}],\"bar\":[{\"error_x\":{\"color\":\"#2a3f5f\"},\"error_y\":{\"color\":\"#2a3f5f\"},\"marker\":{\"line\":{\"color\":\"#E5ECF6\",\"width\":0.5},\"pattern\":{\"fillmode\":\"overlay\",\"size\":10,\"solidity\":0.2}},\"type\":\"bar\"}],\"scattergeo\":[{\"type\":\"scattergeo\",\"marker\":{\"colorbar\":{\"outlinewidth\":0,\"ticks\":\"\"}}}],\"scatterpolar\":[{\"type\":\"scatterpolar\",\"marker\":{\"colorbar\":{\"outlinewidth\":0,\"ticks\":\"\"}}}],\"histogram\":[{\"marker\":{\"pattern\":{\"fillmode\":\"overlay\",\"size\":10,\"solidity\":0.2}},\"type\":\"histogram\"}],\"scattergl\":[{\"type\":\"scattergl\",\"marker\":{\"colorbar\":{\"outlinewidth\":0,\"ticks\":\"\"}}}],\"scatter3d\":[{\"type\":\"scatter3d\",\"line\":{\"colorbar\":{\"outlinewidth\":0,\"ticks\":\"\"}},\"marker\":{\"colorbar\":{\"outlinewidth\":0,\"ticks\":\"\"}}}],\"scattermapbox\":[{\"type\":\"scattermapbox\",\"marker\":{\"colorbar\":{\"outlinewidth\":0,\"ticks\":\"\"}}}],\"scatterternary\":[{\"type\":\"scatterternary\",\"marker\":{\"colorbar\":{\"outlinewidth\":0,\"ticks\":\"\"}}}],\"scattercarpet\":[{\"type\":\"scattercarpet\",\"marker\":{\"colorbar\":{\"outlinewidth\":0,\"ticks\":\"\"}}}],\"carpet\":[{\"aaxis\":{\"endlinecolor\":\"#2a3f5f\",\"gridcolor\":\"white\",\"linecolor\":\"white\",\"minorgridcolor\":\"white\",\"startlinecolor\":\"#2a3f5f\"},\"baxis\":{\"endlinecolor\":\"#2a3f5f\",\"gridcolor\":\"white\",\"linecolor\":\"white\",\"minorgridcolor\":\"white\",\"startlinecolor\":\"#2a3f5f\"},\"type\":\"carpet\"}],\"table\":[{\"cells\":{\"fill\":{\"color\":\"#EBF0F8\"},\"line\":{\"color\":\"white\"}},\"header\":{\"fill\":{\"color\":\"#C8D4E3\"},\"line\":{\"color\":\"white\"}},\"type\":\"table\"}],\"barpolar\":[{\"marker\":{\"line\":{\"color\":\"#E5ECF6\",\"width\":0.5},\"pattern\":{\"fillmode\":\"overlay\",\"size\":10,\"solidity\":0.2}},\"type\":\"barpolar\"}],\"pie\":[{\"automargin\":true,\"type\":\"pie\"}]},\"layout\":{\"autotypenumbers\":\"strict\",\"colorway\":[\"#636efa\",\"#EF553B\",\"#00cc96\",\"#ab63fa\",\"#FFA15A\",\"#19d3f3\",\"#FF6692\",\"#B6E880\",\"#FF97FF\",\"#FECB52\"],\"font\":{\"color\":\"#2a3f5f\"},\"hovermode\":\"closest\",\"hoverlabel\":{\"align\":\"left\"},\"paper_bgcolor\":\"white\",\"plot_bgcolor\":\"#E5ECF6\",\"polar\":{\"bgcolor\":\"#E5ECF6\",\"angularaxis\":{\"gridcolor\":\"white\",\"linecolor\":\"white\",\"ticks\":\"\"},\"radialaxis\":{\"gridcolor\":\"white\",\"linecolor\":\"white\",\"ticks\":\"\"}},\"ternary\":{\"bgcolor\":\"#E5ECF6\",\"aaxis\":{\"gridcolor\":\"white\",\"linecolor\":\"white\",\"ticks\":\"\"},\"baxis\":{\"gridcolor\":\"white\",\"linecolor\":\"white\",\"ticks\":\"\"},\"caxis\":{\"gridcolor\":\"white\",\"linecolor\":\"white\",\"ticks\":\"\"}},\"coloraxis\":{\"colorbar\":{\"outlinewidth\":0,\"ticks\":\"\"}},\"colorscale\":{\"sequential\":[[0.0,\"#0d0887\"],[0.1111111111111111,\"#46039f\"],[0.2222222222222222,\"#7201a8\"],[0.3333333333333333,\"#9c179e\"],[0.4444444444444444,\"#bd3786\"],[0.5555555555555556,\"#d8576b\"],[0.6666666666666666,\"#ed7953\"],[0.7777777777777778,\"#fb9f3a\"],[0.8888888888888888,\"#fdca26\"],[1.0,\"#f0f921\"]],\"sequentialminus\":[[0.0,\"#0d0887\"],[0.1111111111111111,\"#46039f\"],[0.2222222222222222,\"#7201a8\"],[0.3333333333333333,\"#9c179e\"],[0.4444444444444444,\"#bd3786\"],[0.5555555555555556,\"#d8576b\"],[0.6666666666666666,\"#ed7953\"],[0.7777777777777778,\"#fb9f3a\"],[0.8888888888888888,\"#fdca26\"],[1.0,\"#f0f921\"]],\"diverging\":[[0,\"#8e0152\"],[0.1,\"#c51b7d\"],[0.2,\"#de77ae\"],[0.3,\"#f1b6da\"],[0.4,\"#fde0ef\"],[0.5,\"#f7f7f7\"],[0.6,\"#e6f5d0\"],[0.7,\"#b8e186\"],[0.8,\"#7fbc41\"],[0.9,\"#4d9221\"],[1,\"#276419\"]]},\"xaxis\":{\"gridcolor\":\"white\",\"linecolor\":\"white\",\"ticks\":\"\",\"title\":{\"standoff\":15},\"zerolinecolor\":\"white\",\"automargin\":true,\"zerolinewidth\":2},\"yaxis\":{\"gridcolor\":\"white\",\"linecolor\":\"white\",\"ticks\":\"\",\"title\":{\"standoff\":15},\"zerolinecolor\":\"white\",\"automargin\":true,\"zerolinewidth\":2},\"scene\":{\"xaxis\":{\"backgroundcolor\":\"#E5ECF6\",\"gridcolor\":\"white\",\"linecolor\":\"white\",\"showbackground\":true,\"ticks\":\"\",\"zerolinecolor\":\"white\",\"gridwidth\":2},\"yaxis\":{\"backgroundcolor\":\"#E5ECF6\",\"gridcolor\":\"white\",\"linecolor\":\"white\",\"showbackground\":true,\"ticks\":\"\",\"zerolinecolor\":\"white\",\"gridwidth\":2},\"zaxis\":{\"backgroundcolor\":\"#E5ECF6\",\"gridcolor\":\"white\",\"linecolor\":\"white\",\"showbackground\":true,\"ticks\":\"\",\"zerolinecolor\":\"white\",\"gridwidth\":2}},\"shapedefaults\":{\"line\":{\"color\":\"#2a3f5f\"}},\"annotationdefaults\":{\"arrowcolor\":\"#2a3f5f\",\"arrowhead\":0,\"arrowwidth\":1},\"geo\":{\"bgcolor\":\"white\",\"landcolor\":\"#E5ECF6\",\"subunitcolor\":\"white\",\"showland\":true,\"showlakes\":true,\"lakecolor\":\"white\"},\"title\":{\"x\":0.05},\"mapbox\":{\"style\":\"light\"}}},\"xaxis\":{\"anchor\":\"y\",\"domain\":[0.0,1.0],\"title\":{\"text\":\"value\"},\"tickmode\":\"linear\",\"tick0\":0,\"dtick\":1},\"yaxis\":{\"anchor\":\"x\",\"domain\":[0.0,1.0],\"title\":{\"text\":\"count\"}},\"legend\":{\"title\":{\"text\":\"variable\"},\"tracegroupgap\":0},\"margin\":{\"t\":60},\"barmode\":\"relative\"},                        {\"responsive\": true}                    ).then(function(){\n",
       "                            \n",
       "var gd = document.getElementById('603ecacc-c6f3-440b-8604-e0c35aa2cb24');\n",
       "var x = new MutationObserver(function (mutations, observer) {{\n",
       "        var display = window.getComputedStyle(gd).display;\n",
       "        if (!display || display === 'none') {{\n",
       "            console.log([gd, 'removed!']);\n",
       "            Plotly.purge(gd);\n",
       "            observer.disconnect();\n",
       "        }}\n",
       "}});\n",
       "\n",
       "// Listen for the removal of the full notebook cells\n",
       "var notebookContainer = gd.closest('#notebook-container');\n",
       "if (notebookContainer) {{\n",
       "    x.observe(notebookContainer, {childList: true});\n",
       "}}\n",
       "\n",
       "// Listen for the clearing of the current output cell\n",
       "var outputEl = gd.closest('.output');\n",
       "if (outputEl) {{\n",
       "    x.observe(outputEl, {childList: true});\n",
       "}}\n",
       "\n",
       "                        })                };                });            </script>        </div>"
      ]
     },
     "metadata": {},
     "output_type": "display_data"
    }
   ],
   "source": [
    "def f(s):\n",
    "    if type(s) == str:\n",
    "        lst = s.split(\":\")\n",
    "        if len(lst) == 2:\n",
    "            return int(lst[0]) + int(lst[1]) / 60\n",
    "        else:\n",
    "            return None\n",
    "    else:\n",
    "        return None\n",
    "\n",
    "y = df2.HORA_OCORRENCIA_BO.map(lambda x: f(x))\n",
    "\n",
    "fig = px.histogram(y, nbins=24)\n",
    "fig.update_layout(\n",
    "    xaxis = dict(\n",
    "        tickmode = 'linear',\n",
    "        tick0 = 0,\n",
    "        dtick = 1\n",
    "    )\n",
    ")\n",
    "fig.show()"
   ]
  },
  {
   "cell_type": "code",
   "execution_count": 187,
   "id": "072e5c62-0fcc-47ae-ae44-55a06199d177",
   "metadata": {},
   "outputs": [
    {
     "data": {
      "text/html": [
       "<div>\n",
       "<style scoped>\n",
       "    .dataframe tbody tr th:only-of-type {\n",
       "        vertical-align: middle;\n",
       "    }\n",
       "\n",
       "    .dataframe tbody tr th {\n",
       "        vertical-align: top;\n",
       "    }\n",
       "\n",
       "    .dataframe thead th {\n",
       "        text-align: right;\n",
       "    }\n",
       "</style>\n",
       "<table border=\"1\" class=\"dataframe\">\n",
       "  <thead>\n",
       "    <tr style=\"text-align: right;\">\n",
       "      <th></th>\n",
       "      <th>ID_DELEGACIA</th>\n",
       "      <th>NOME_DEPARTAMENTO</th>\n",
       "      <th>NOME_SECCIONAL</th>\n",
       "      <th>NOME_DELEGACIA</th>\n",
       "      <th>CIDADE</th>\n",
       "      <th>ANO_BO</th>\n",
       "      <th>NUM_BO</th>\n",
       "      <th>DESCR_SOLUCAO</th>\n",
       "      <th>DESCR_PROVIDENCIA</th>\n",
       "      <th>NOME_DEPARTAMENTO_CIRC</th>\n",
       "      <th>...</th>\n",
       "      <th>NACIONALIDADE_PESSOA</th>\n",
       "      <th>NATURALIDADE_PESSOA</th>\n",
       "      <th>CONT_OBJETO</th>\n",
       "      <th>DESCR_MODO_OBJETO</th>\n",
       "      <th>DESCR_TIPO_OBJETO</th>\n",
       "      <th>DESCR_SUBTIPO_OBJETO</th>\n",
       "      <th>DESCR_UNIDADE</th>\n",
       "      <th>QUANTIDADE_OBJETO</th>\n",
       "      <th>OBSERVACAO_OBJETO</th>\n",
       "      <th>registry_timestamp</th>\n",
       "    </tr>\n",
       "  </thead>\n",
       "  <tbody>\n",
       "    <tr>\n",
       "      <th>0</th>\n",
       "      <td>10004</td>\n",
       "      <td>DECAP</td>\n",
       "      <td>DECAP - SEDE</td>\n",
       "      <td>DEL.POL.METROPOLITANO</td>\n",
       "      <td>S.PAULO</td>\n",
       "      <td>2011</td>\n",
       "      <td>199</td>\n",
       "      <td>BO PARA INVESTIGAÇÃO</td>\n",
       "      <td>NaN</td>\n",
       "      <td>DECAP</td>\n",
       "      <td>...</td>\n",
       "      <td>BRASILEIRA</td>\n",
       "      <td>BORRAZOPOLIS -PR</td>\n",
       "      <td>1</td>\n",
       "      <td>SUBTRAÍDO</td>\n",
       "      <td>Esporte e lazer</td>\n",
       "      <td>Bicicleta                                     ...</td>\n",
       "      <td>Unidade</td>\n",
       "      <td>1.0</td>\n",
       "      <td>MODELO CROSS - CORES BRANCA/PRETA</td>\n",
       "      <td>2011-01-28 20:12:00</td>\n",
       "    </tr>\n",
       "    <tr>\n",
       "      <th>1</th>\n",
       "      <td>10004</td>\n",
       "      <td>DECAP</td>\n",
       "      <td>DECAP - SEDE</td>\n",
       "      <td>DEL.POL.METROPOLITANO</td>\n",
       "      <td>S.PAULO</td>\n",
       "      <td>2011</td>\n",
       "      <td>2479</td>\n",
       "      <td>ENCAM FEBEM/V.INFAN.JUVENTUDE</td>\n",
       "      <td>NaN</td>\n",
       "      <td>DECAP</td>\n",
       "      <td>...</td>\n",
       "      <td>BRASILEIRA</td>\n",
       "      <td>S.PAULO -SP</td>\n",
       "      <td>2</td>\n",
       "      <td>SUBTRAÍDO</td>\n",
       "      <td>Esporte e lazer</td>\n",
       "      <td>Bicicleta                                     ...</td>\n",
       "      <td>NaN</td>\n",
       "      <td>1.0</td>\n",
       "      <td>NaN</td>\n",
       "      <td>2011-11-02 09:51:00</td>\n",
       "    </tr>\n",
       "    <tr>\n",
       "      <th>2</th>\n",
       "      <td>10004</td>\n",
       "      <td>DECAP</td>\n",
       "      <td>DECAP - SEDE</td>\n",
       "      <td>DEL.POL.METROPOLITANO</td>\n",
       "      <td>S.PAULO</td>\n",
       "      <td>2019</td>\n",
       "      <td>1501</td>\n",
       "      <td>APRECIAÇÃO DO DELEGADO TITULAR</td>\n",
       "      <td>NaN</td>\n",
       "      <td>DECAP</td>\n",
       "      <td>...</td>\n",
       "      <td>BRASILEIRA</td>\n",
       "      <td>S.PAULO -SP</td>\n",
       "      <td>2</td>\n",
       "      <td>SUBTRAÍDO</td>\n",
       "      <td>Esporte e lazer</td>\n",
       "      <td>Bicicleta                                     ...</td>\n",
       "      <td>Unidade</td>\n",
       "      <td>1.0</td>\n",
       "      <td>NaN</td>\n",
       "      <td>2019-06-17 22:37:00</td>\n",
       "    </tr>\n",
       "    <tr>\n",
       "      <th>3</th>\n",
       "      <td>10008</td>\n",
       "      <td>DOPE-DEPTO OP POL ESTRAT.</td>\n",
       "      <td>DIV.POL.PORTO/AERO/PROT.TURISTA</td>\n",
       "      <td>DOPE - 01ª DP DEATUR CAPITAL</td>\n",
       "      <td>GUARULHOS</td>\n",
       "      <td>2008</td>\n",
       "      <td>197</td>\n",
       "      <td>ENCAMINHAMENTO DP ÁREA DO FATO</td>\n",
       "      <td>NaN</td>\n",
       "      <td>DEMACRO</td>\n",
       "      <td>...</td>\n",
       "      <td>BRASILEIRA</td>\n",
       "      <td>S.PAULO -SP</td>\n",
       "      <td>1</td>\n",
       "      <td>SUBTRAÍDO</td>\n",
       "      <td>Esporte e lazer</td>\n",
       "      <td>Bicicleta                                     ...</td>\n",
       "      <td>Unidade</td>\n",
       "      <td>1.0</td>\n",
       "      <td>ANO 2007</td>\n",
       "      <td>2008-09-09 15:37:00</td>\n",
       "    </tr>\n",
       "    <tr>\n",
       "      <th>4</th>\n",
       "      <td>10101</td>\n",
       "      <td>DECAP</td>\n",
       "      <td>DEL.SEC.1º CENTRO</td>\n",
       "      <td>01º D.P. SE</td>\n",
       "      <td>S.PAULO</td>\n",
       "      <td>2008</td>\n",
       "      <td>7439</td>\n",
       "      <td>BO PARA INVESTIGAÇÃO</td>\n",
       "      <td>NaN</td>\n",
       "      <td>DECAP</td>\n",
       "      <td>...</td>\n",
       "      <td>BRASILEIRA</td>\n",
       "      <td>S.PAULO -SP</td>\n",
       "      <td>1</td>\n",
       "      <td>SUBTRAÍDO</td>\n",
       "      <td>Esporte e lazer</td>\n",
       "      <td>Bicicleta                                     ...</td>\n",
       "      <td>Unidade</td>\n",
       "      <td>1.0</td>\n",
       "      <td>COR AZUL, GARFO AMARELO, GARUPA</td>\n",
       "      <td>2008-07-20 18:01:00</td>\n",
       "    </tr>\n",
       "    <tr>\n",
       "      <th>...</th>\n",
       "      <td>...</td>\n",
       "      <td>...</td>\n",
       "      <td>...</td>\n",
       "      <td>...</td>\n",
       "      <td>...</td>\n",
       "      <td>...</td>\n",
       "      <td>...</td>\n",
       "      <td>...</td>\n",
       "      <td>...</td>\n",
       "      <td>...</td>\n",
       "      <td>...</td>\n",
       "      <td>...</td>\n",
       "      <td>...</td>\n",
       "      <td>...</td>\n",
       "      <td>...</td>\n",
       "      <td>...</td>\n",
       "      <td>...</td>\n",
       "      <td>...</td>\n",
       "      <td>...</td>\n",
       "      <td>...</td>\n",
       "      <td>...</td>\n",
       "    </tr>\n",
       "    <tr>\n",
       "      <th>42932</th>\n",
       "      <td>900023</td>\n",
       "      <td>DIPOL - DEPTO DE INTELIGENCIA</td>\n",
       "      <td>DELEGACIA ELETRONICA</td>\n",
       "      <td>DELEGACIA ELETRONICA 3</td>\n",
       "      <td>PRAIA GRANDE</td>\n",
       "      <td>2022</td>\n",
       "      <td>26491</td>\n",
       "      <td>BO PARA REGISTRO</td>\n",
       "      <td>NaN</td>\n",
       "      <td>DEINTER 6 - SANTOS</td>\n",
       "      <td>...</td>\n",
       "      <td>Brasil</td>\n",
       "      <td>NaN</td>\n",
       "      <td>1</td>\n",
       "      <td>SUBTRAÍDO</td>\n",
       "      <td>Esporte e lazer</td>\n",
       "      <td>Bicicleta                                     ...</td>\n",
       "      <td>NaN</td>\n",
       "      <td>1.0</td>\n",
       "      <td>NaN</td>\n",
       "      <td>2022-06-06 16:44:00</td>\n",
       "    </tr>\n",
       "    <tr>\n",
       "      <th>42933</th>\n",
       "      <td>900023</td>\n",
       "      <td>DIPOL - DEPTO DE INTELIGENCIA</td>\n",
       "      <td>DELEGACIA ELETRONICA</td>\n",
       "      <td>DELEGACIA ELETRONICA 3</td>\n",
       "      <td>ARTUR NOGUEIRA</td>\n",
       "      <td>2022</td>\n",
       "      <td>52563</td>\n",
       "      <td>ENCAMINHAMENTO DP ÁREA DO FATO</td>\n",
       "      <td>NaN</td>\n",
       "      <td>DEINTER 9 - PIRACICABA</td>\n",
       "      <td>...</td>\n",
       "      <td>Brasil</td>\n",
       "      <td>NaN</td>\n",
       "      <td>1</td>\n",
       "      <td>SUBTRAÍDO</td>\n",
       "      <td>Esporte e lazer</td>\n",
       "      <td>Bicicleta                                     ...</td>\n",
       "      <td>NaN</td>\n",
       "      <td>1.0</td>\n",
       "      <td>NaN</td>\n",
       "      <td>2022-06-29 15:44:00</td>\n",
       "    </tr>\n",
       "    <tr>\n",
       "      <th>42934</th>\n",
       "      <td>900023</td>\n",
       "      <td>DIPOL - DEPTO DE INTELIGENCIA</td>\n",
       "      <td>DELEGACIA ELETRONICA</td>\n",
       "      <td>DELEGACIA ELETRONICA 3</td>\n",
       "      <td>CACAPAVA</td>\n",
       "      <td>2022</td>\n",
       "      <td>94452</td>\n",
       "      <td>BO PARA REGISTRO</td>\n",
       "      <td>NaN</td>\n",
       "      <td>DEINTER 1 - SAO JOSE DOS CAMPOS</td>\n",
       "      <td>...</td>\n",
       "      <td>Brasil</td>\n",
       "      <td>NaN</td>\n",
       "      <td>1</td>\n",
       "      <td>SUBTRAÍDO</td>\n",
       "      <td>Esporte e lazer</td>\n",
       "      <td>Bicicleta                                     ...</td>\n",
       "      <td>NaN</td>\n",
       "      <td>1.0</td>\n",
       "      <td>NaN</td>\n",
       "      <td>2022-08-08 09:39:00</td>\n",
       "    </tr>\n",
       "    <tr>\n",
       "      <th>42935</th>\n",
       "      <td>900441</td>\n",
       "      <td>DOPE-DEPTO OP POL ESTRAT.</td>\n",
       "      <td>DIV.POL.PORTO/AERO/PROT.TURISTA</td>\n",
       "      <td>DOPE - 05ª DP PORTO DE SANTOS</td>\n",
       "      <td>SANTOS</td>\n",
       "      <td>2018</td>\n",
       "      <td>443</td>\n",
       "      <td>APRECIAÇÃO DO DELEGADO TITULAR</td>\n",
       "      <td>NaN</td>\n",
       "      <td>DEINTER 6 - SANTOS</td>\n",
       "      <td>...</td>\n",
       "      <td>BRASILEIRA</td>\n",
       "      <td>SANTOS -SP</td>\n",
       "      <td>1</td>\n",
       "      <td>SUBTRAÍDO</td>\n",
       "      <td>Esporte e lazer</td>\n",
       "      <td>Bicicleta                                     ...</td>\n",
       "      <td>Unidade</td>\n",
       "      <td>1.0</td>\n",
       "      <td>NaN</td>\n",
       "      <td>2018-04-05 14:35:00</td>\n",
       "    </tr>\n",
       "    <tr>\n",
       "      <th>42936</th>\n",
       "      <td>900841</td>\n",
       "      <td>DPPC- DEP.POL.PROT A CIDADANIA</td>\n",
       "      <td>DPPC-DEP.POL.PROT.A CIDADANIA</td>\n",
       "      <td>DICCA - 01ª DEL.POL.</td>\n",
       "      <td>S.PAULO</td>\n",
       "      <td>2018</td>\n",
       "      <td>8</td>\n",
       "      <td>ENCAMINHAMENTO DP ÁREA DO FATO</td>\n",
       "      <td>OFICIO</td>\n",
       "      <td>DECAP</td>\n",
       "      <td>...</td>\n",
       "      <td>BRASILEIRA</td>\n",
       "      <td>S.PAULO -SP</td>\n",
       "      <td>2</td>\n",
       "      <td>SUBTRAÍDO</td>\n",
       "      <td>Esporte e lazer</td>\n",
       "      <td>Bicicleta                                     ...</td>\n",
       "      <td>Outros</td>\n",
       "      <td>1.0</td>\n",
       "      <td>BICICLETA NA COR PRETA FOSCA, COM ESCRITA AZUL...</td>\n",
       "      <td>2018-08-31 15:14:00</td>\n",
       "    </tr>\n",
       "  </tbody>\n",
       "</table>\n",
       "<p>42937 rows × 60 columns</p>\n",
       "</div>"
      ],
      "text/plain": [
       "       ID_DELEGACIA                         NOME_DEPARTAMENTO  \\\n",
       "0             10004  DECAP                                      \n",
       "1             10004  DECAP                                      \n",
       "2             10004  DECAP                                      \n",
       "3             10008  DOPE-DEPTO OP POL ESTRAT.                  \n",
       "4             10101  DECAP                                      \n",
       "...             ...                                       ...   \n",
       "42932        900023  DIPOL - DEPTO DE INTELIGENCIA              \n",
       "42933        900023  DIPOL - DEPTO DE INTELIGENCIA              \n",
       "42934        900023  DIPOL - DEPTO DE INTELIGENCIA              \n",
       "42935        900441  DOPE-DEPTO OP POL ESTRAT.                  \n",
       "42936        900841  DPPC- DEP.POL.PROT A CIDADANIA             \n",
       "\n",
       "                                 NOME_SECCIONAL  \\\n",
       "0      DECAP - SEDE                               \n",
       "1      DECAP - SEDE                               \n",
       "2      DECAP - SEDE                               \n",
       "3      DIV.POL.PORTO/AERO/PROT.TURISTA            \n",
       "4      DEL.SEC.1º CENTRO                          \n",
       "...                                         ...   \n",
       "42932  DELEGACIA ELETRONICA                       \n",
       "42933  DELEGACIA ELETRONICA                       \n",
       "42934  DELEGACIA ELETRONICA                       \n",
       "42935  DIV.POL.PORTO/AERO/PROT.TURISTA            \n",
       "42936  DPPC-DEP.POL.PROT.A CIDADANIA              \n",
       "\n",
       "                       NOME_DELEGACIA  \\\n",
       "0      DEL.POL.METROPOLITANO            \n",
       "1      DEL.POL.METROPOLITANO            \n",
       "2      DEL.POL.METROPOLITANO            \n",
       "3      DOPE - 01ª DP DEATUR CAPITAL     \n",
       "4      01º D.P. SE                      \n",
       "...                               ...   \n",
       "42932  DELEGACIA ELETRONICA 3           \n",
       "42933  DELEGACIA ELETRONICA 3           \n",
       "42934  DELEGACIA ELETRONICA 3           \n",
       "42935  DOPE - 05ª DP PORTO DE SANTOS    \n",
       "42936  DICCA - 01ª DEL.POL.             \n",
       "\n",
       "                                         CIDADE  ANO_BO  NUM_BO  \\\n",
       "0      S.PAULO                                     2011     199   \n",
       "1      S.PAULO                                     2011    2479   \n",
       "2      S.PAULO                                     2019    1501   \n",
       "3      GUARULHOS                                   2008     197   \n",
       "4      S.PAULO                                     2008    7439   \n",
       "...                                         ...     ...     ...   \n",
       "42932  PRAIA GRANDE                                2022   26491   \n",
       "42933  ARTUR NOGUEIRA                              2022   52563   \n",
       "42934  CACAPAVA                                    2022   94452   \n",
       "42935  SANTOS                                      2018     443   \n",
       "42936  S.PAULO                                     2018       8   \n",
       "\n",
       "                        DESCR_SOLUCAO               DESCR_PROVIDENCIA  \\\n",
       "0      BO PARA INVESTIGAÇÃO                                       NaN   \n",
       "1      ENCAM FEBEM/V.INFAN.JUVENTUDE                              NaN   \n",
       "2      APRECIAÇÃO DO DELEGADO TITULAR                             NaN   \n",
       "3      ENCAMINHAMENTO DP ÁREA DO FATO                             NaN   \n",
       "4      BO PARA INVESTIGAÇÃO                                       NaN   \n",
       "...                               ...                             ...   \n",
       "42932  BO PARA REGISTRO                                           NaN   \n",
       "42933  ENCAMINHAMENTO DP ÁREA DO FATO                             NaN   \n",
       "42934  BO PARA REGISTRO                                           NaN   \n",
       "42935  APRECIAÇÃO DO DELEGADO TITULAR                             NaN   \n",
       "42936  ENCAMINHAMENTO DP ÁREA DO FATO  OFICIO                           \n",
       "\n",
       "                         NOME_DEPARTAMENTO_CIRC  ... NACIONALIDADE_PESSOA  \\\n",
       "0      DECAP                                     ...           BRASILEIRA   \n",
       "1      DECAP                                     ...           BRASILEIRA   \n",
       "2      DECAP                                     ...           BRASILEIRA   \n",
       "3      DEMACRO                                   ...           BRASILEIRA   \n",
       "4      DECAP                                     ...           BRASILEIRA   \n",
       "...                                         ...  ...                  ...   \n",
       "42932  DEINTER 6 - SANTOS                        ...               Brasil   \n",
       "42933  DEINTER 9 - PIRACICABA                    ...               Brasil   \n",
       "42934  DEINTER 1 - SAO JOSE DOS CAMPOS           ...               Brasil   \n",
       "42935  DEINTER 6 - SANTOS                        ...           BRASILEIRA   \n",
       "42936  DECAP                                     ...           BRASILEIRA   \n",
       "\n",
       "      NATURALIDADE_PESSOA CONT_OBJETO  \\\n",
       "0        BORRAZOPOLIS -PR           1   \n",
       "1             S.PAULO -SP           2   \n",
       "2             S.PAULO -SP           2   \n",
       "3             S.PAULO -SP           1   \n",
       "4             S.PAULO -SP           1   \n",
       "...                   ...         ...   \n",
       "42932                 NaN           1   \n",
       "42933                 NaN           1   \n",
       "42934                 NaN           1   \n",
       "42935          SANTOS -SP           1   \n",
       "42936         S.PAULO -SP           2   \n",
       "\n",
       "                              DESCR_MODO_OBJETO  \\\n",
       "0      SUBTRAÍDO                                  \n",
       "1      SUBTRAÍDO                                  \n",
       "2      SUBTRAÍDO                                  \n",
       "3      SUBTRAÍDO                                  \n",
       "4      SUBTRAÍDO                                  \n",
       "...                                         ...   \n",
       "42932  SUBTRAÍDO                                  \n",
       "42933  SUBTRAÍDO                                  \n",
       "42934  SUBTRAÍDO                                  \n",
       "42935  SUBTRAÍDO                                  \n",
       "42936  SUBTRAÍDO                                  \n",
       "\n",
       "                              DESCR_TIPO_OBJETO  \\\n",
       "0      Esporte e lazer                            \n",
       "1      Esporte e lazer                            \n",
       "2      Esporte e lazer                            \n",
       "3      Esporte e lazer                            \n",
       "4      Esporte e lazer                            \n",
       "...                                         ...   \n",
       "42932  Esporte e lazer                            \n",
       "42933  Esporte e lazer                            \n",
       "42934  Esporte e lazer                            \n",
       "42935  Esporte e lazer                            \n",
       "42936  Esporte e lazer                            \n",
       "\n",
       "                                    DESCR_SUBTIPO_OBJETO DESCR_UNIDADE  \\\n",
       "0      Bicicleta                                     ...    Unidade      \n",
       "1      Bicicleta                                     ...           NaN   \n",
       "2      Bicicleta                                     ...    Unidade      \n",
       "3      Bicicleta                                     ...    Unidade      \n",
       "4      Bicicleta                                     ...    Unidade      \n",
       "...                                                  ...           ...   \n",
       "42932  Bicicleta                                     ...           NaN   \n",
       "42933  Bicicleta                                     ...           NaN   \n",
       "42934  Bicicleta                                     ...           NaN   \n",
       "42935  Bicicleta                                     ...    Unidade      \n",
       "42936  Bicicleta                                     ...    Outros       \n",
       "\n",
       "      QUANTIDADE_OBJETO                                  OBSERVACAO_OBJETO  \\\n",
       "0                   1.0                  MODELO CROSS - CORES BRANCA/PRETA   \n",
       "1                   1.0                                                NaN   \n",
       "2                   1.0                                                NaN   \n",
       "3                   1.0                                           ANO 2007   \n",
       "4                   1.0                    COR AZUL, GARFO AMARELO, GARUPA   \n",
       "...                 ...                                                ...   \n",
       "42932               1.0                                                NaN   \n",
       "42933               1.0                                                NaN   \n",
       "42934               1.0                                                NaN   \n",
       "42935               1.0                                                NaN   \n",
       "42936               1.0  BICICLETA NA COR PRETA FOSCA, COM ESCRITA AZUL...   \n",
       "\n",
       "       registry_timestamp  \n",
       "0     2011-01-28 20:12:00  \n",
       "1     2011-11-02 09:51:00  \n",
       "2     2019-06-17 22:37:00  \n",
       "3     2008-09-09 15:37:00  \n",
       "4     2008-07-20 18:01:00  \n",
       "...                   ...  \n",
       "42932 2022-06-06 16:44:00  \n",
       "42933 2022-06-29 15:44:00  \n",
       "42934 2022-08-08 09:39:00  \n",
       "42935 2018-04-05 14:35:00  \n",
       "42936 2018-08-31 15:14:00  \n",
       "\n",
       "[42937 rows x 60 columns]"
      ]
     },
     "execution_count": 187,
     "metadata": {},
     "output_type": "execute_result"
    }
   ],
   "source": [
    "df"
   ]
  },
  {
   "cell_type": "code",
   "execution_count": null,
   "id": "4958c018-1d37-4883-af9d-4dd0431ebe0e",
   "metadata": {},
   "outputs": [],
   "source": []
  }
 ],
 "metadata": {
  "kernelspec": {
   "display_name": "Python 3 (ipykernel)",
   "language": "python",
   "name": "python3"
  },
  "language_info": {
   "codemirror_mode": {
    "name": "ipython",
    "version": 3
   },
   "file_extension": ".py",
   "mimetype": "text/x-python",
   "name": "python",
   "nbconvert_exporter": "python",
   "pygments_lexer": "ipython3",
   "version": "3.9.5"
  }
 },
 "nbformat": 4,
 "nbformat_minor": 5
}
